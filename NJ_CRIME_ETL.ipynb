{
 "cells": [
  {
   "cell_type": "code",
   "execution_count": 1,
   "metadata": {},
   "outputs": [],
   "source": [
    "#dependencies and setup\n",
    "import pandas as pd\n",
    "import os\n",
    "from openpyxl import Workbook\n",
    "import numpy as np\n",
    "import requests\n",
    "import json\n",
    "import re\n",
    "from pprint import pprint\n",
    "from bs4 import BeautifulSoup\n",
    "from splinter import Browser\n",
    "from webdriver_manager.chrome import ChromeDriverManager\n",
    "import time"
   ]
  },
  {
   "cell_type": "code",
   "execution_count": 2,
   "metadata": {},
   "outputs": [],
   "source": [
    "# SQLite dependencies\n",
    "import sqlite3\n",
    "from sqlalchemy import create_engine\n",
    "from sqlalchemy import Column, Integer, String, Float"
   ]
  },
  {
   "cell_type": "markdown",
   "metadata": {},
   "source": [
    "# Extraction"
   ]
  },
  {
   "cell_type": "markdown",
   "metadata": {},
   "source": [
    "## School performance score"
   ]
  },
  {
   "cell_type": "code",
   "execution_count": null,
   "metadata": {},
   "outputs": [],
   "source": [
    "# create a browser instance using splinter\n",
    "executable_path = {'executable_path': ChromeDriverManager().install()}\n",
    "browser = Browser('chrome', **executable_path, headless=False)\n",
    "time.sleep(1)"
   ]
  },
  {
   "cell_type": "code",
   "execution_count": null,
   "metadata": {},
   "outputs": [],
   "source": [
    "# visit the NJ schools url\n",
    "nj_school_rate_URL = 'https://rc.doe.state.nj.us/ReportsDatabase.aspx'\n",
    "browser.visit(nj_school_rate_URL)\n",
    "time.sleep(1)\n",
    "\n",
    "# create HTML object\n",
    "html = browser.html\n",
    "\n",
    "# parse HTML with BeautifulSoup\n",
    "soup = BeautifulSoup(html, 'html.parser')"
   ]
  },
  {
   "cell_type": "code",
   "execution_count": null,
   "metadata": {},
   "outputs": [],
   "source": [
    "# access html elements to get the link for the table data\n",
    "div = soup.find(id= 'ContentPlaceHolder1_LatestDataFilesPanel')\n",
    "download_file_link_partial = div.find('a', href = True)['href']\n",
    "download_file_link_partial"
   ]
  },
  {
   "cell_type": "code",
   "execution_count": null,
   "metadata": {},
   "outputs": [],
   "source": [
    "# creating the full url for the latest file\n",
    "base_url = \"https://rc.doe.state.nj.us/\"\n",
    "download_file_link_partial = 'ReportsDatabase/PerformanceReports.xlsx'\n",
    "download_file_link = base_url + download_file_link_partial\n",
    "download_file_link"
   ]
  },
  {
   "cell_type": "code",
   "execution_count": null,
   "metadata": {},
   "outputs": [],
   "source": [
    "#  define data types for a couple of columns\n",
    "info_dtype_dic= {'COUNTY_CODE' : str, 'DISTRICT_CODE':str, 'SCHOOL_CODE':str}"
   ]
  },
  {
   "cell_type": "code",
   "execution_count": null,
   "metadata": {},
   "outputs": [],
   "source": [
    "#  import school metadata\n",
    "school_info = pd.read_excel(download_file_link,engine='openpyxl',sheet_name=\"Header and Contact\", dtype = info_dtype_dic)\n",
    "school_info = school_info[[\"COUNTY_CODE\", \"COUNTY_NAME\", \"DISTRICT_CODE\", \"DISTRICT_NAME\", \"SCHOOL_CODE\", \"SCHOOL_NAME\", \"GRADESPAN\"]]\n",
    "school_info.columns= school_info.columns.str.lower()\n",
    "school_info['county_name'] = school_info['county_name'].str.upper()\n",
    "school_info.head()"
   ]
  },
  {
   "cell_type": "code",
   "execution_count": null,
   "metadata": {},
   "outputs": [],
   "source": [
    "#  define data types for a couple of columns\n",
    "growth_dtype_dic= {'CountyCode' : str, 'DistrictCode':str, 'SchoolCode':str}"
   ]
  },
  {
   "cell_type": "code",
   "execution_count": null,
   "metadata": {
    "scrolled": true
   },
   "outputs": [],
   "source": [
    "#  import school student growth data\n",
    "school_growth_src = pd.read_excel(download_file_link,engine='openpyxl',sheet_name=\"StudentGrowth\", dtype = growth_dtype_dic)\n",
    "school_growth_src.head()"
   ]
  },
  {
   "cell_type": "code",
   "execution_count": null,
   "metadata": {},
   "outputs": [],
   "source": [
    "#  fixing data types for numeric columns\n",
    "school_growth_src['SchoolMedian'] = school_growth_src['SchoolMedian'].apply(pd.to_numeric, errors='coerce')\n",
    "school_growth_src['DistrictMedian'] = school_growth_src['DistrictMedian'].apply(pd.to_numeric, errors='coerce')\n",
    "school_growth_src.head()"
   ]
  },
  {
   "cell_type": "code",
   "execution_count": null,
   "metadata": {},
   "outputs": [],
   "source": [
    "#  filtering out bad data and replaceing null scores with district average\n",
    "school_growth = school_growth_src[(school_growth_src['StudentGroup'] == \"Schoolwide\") & (school_growth_src['DistrictMedian'].notnull())]\n",
    "school_growth[\"SchoolMedian\"].fillna(school_growth[\"DistrictMedian\"], inplace=True)\n",
    "# school_growth.loc[(school_growth['SchoolMedian'] == 0) & (school_growth[\"SchoolMedian\"].isnull()), 'SchoolMedian'] = school_growth[\"DistrictMedian\"]\n",
    "\n",
    "school_growth.head()"
   ]
  },
  {
   "cell_type": "code",
   "execution_count": null,
   "metadata": {},
   "outputs": [],
   "source": [
    "#  aggreagating the dataframe to get the ranking per school\n",
    "school_growth.rename(columns = {\"CountyCode\": 'county_code', \"CountyName\": \"county_name\",\n",
    "                               \"DistrictCode\": \"district_code\", \"DistrictName\": \"district_name\",\n",
    "                               \"SchoolCode\": \"school_code\", \"SchoolName\": \"school_name\"}, inplace = True)\n",
    "\n",
    "school_growth = school_growth.groupby([\"county_code\", \"county_name\", \"district_code\", \"district_name\", \"school_code\", \"school_name\"]\\\n",
    "                                      , as_index =False).agg(rating = (\"SchoolMedian\", \"mean\"))\n",
    "school_growth['county_name'] = school_growth['county_name'].str.upper()\n",
    "school_growth.head()"
   ]
  },
  {
   "cell_type": "code",
   "execution_count": null,
   "metadata": {
    "scrolled": true
   },
   "outputs": [],
   "source": [
    "#  Check for nulls\n",
    "school_growth[school_growth[\"rating\"].isnull()]"
   ]
  },
  {
   "cell_type": "code",
   "execution_count": null,
   "metadata": {},
   "outputs": [],
   "source": [
    "# joining the 2 dataframes to create the final dataset for NJ school \n",
    "school_rating_df = pd.merge(school_info, school_growth, how = \"inner\", on = ['county_code', 'county_name', 'district_code', 'district_name', 'school_code', 'school_name'])\n",
    "school_rating_df.head()"
   ]
  },
  {
   "cell_type": "code",
   "execution_count": null,
   "metadata": {},
   "outputs": [],
   "source": [
    "#  Check for nulls\n",
    "school_rating_df[school_rating_df[\"rating\"].isnull()]"
   ]
  },
  {
   "cell_type": "code",
   "execution_count": null,
   "metadata": {},
   "outputs": [],
   "source": [
    "# close the browser session    \n",
    "browser.quit()"
   ]
  },
  {
   "cell_type": "markdown",
   "metadata": {},
   "source": [
    "## Poverty 2019 (latest)"
   ]
  },
  {
   "cell_type": "code",
   "execution_count": null,
   "metadata": {},
   "outputs": [],
   "source": [
    "# URL for county poverty data\n",
    "poverty_url = 'https://api.census.gov/data/timeseries/poverty/saipe?get=NAME,SAEMHI_PT,SAEMHI_MOE,SAEPOVALL_PT,SAEPOVALL_MOE,SAEPOVRTALL_MOE,SAEPOVRTALL_PT,STABREV&for=county:*&in=state:34&YEAR=2019'"
   ]
  },
  {
   "cell_type": "code",
   "execution_count": null,
   "metadata": {},
   "outputs": [],
   "source": [
    "# API call to get countries metadata\n",
    "poverty_data = requests.get(poverty_url).json()\n",
    "pprint(poverty_data)"
   ]
  },
  {
   "cell_type": "code",
   "execution_count": null,
   "metadata": {},
   "outputs": [],
   "source": [
    "# initialize empty lists\n",
    "county_name = []\n",
    "median_hh_income = []\n",
    "median_hh_inc_moe = []\n",
    "poverty_count = []\n",
    "poverty_count_moe = []\n",
    "poverty_rate = []\n",
    "poverty_rate_moe = []\n",
    "st_abb =[]\n",
    "state_fips = []\n",
    "county_fips = []"
   ]
  },
  {
   "cell_type": "code",
   "execution_count": null,
   "metadata": {},
   "outputs": [],
   "source": [
    "# iterate through the response to populate the lists and create a dataframe\n",
    "for i in range(1,len(poverty_data)):\n",
    "    county_name.append(poverty_data[i][0])\n",
    "    median_hh_income.append(poverty_data[i][1])\n",
    "    median_hh_inc_moe.append(poverty_data[i][2])\n",
    "    poverty_count.append(poverty_data[i][3])\n",
    "    poverty_count_moe.append(poverty_data[i][4])\n",
    "    poverty_rate.append(poverty_data[i][5])\n",
    "    poverty_rate_moe.append(poverty_data[i][6])\n",
    "    st_abb.append(poverty_data[i][7])\n",
    "    state_fips.append(poverty_data[i][9])\n",
    "    county_fips.append(poverty_data[i][10])\n",
    "counties_poverty_df = pd.DataFrame({\"county_name\": county_name,\n",
    "                                    \"median_hh_income\": median_hh_income,\n",
    "                                    \"median_hh_inc_moe\": median_hh_inc_moe,\n",
    "                                    \"poverty_count\": poverty_count,\n",
    "                                    \"poverty_count_moe\": poverty_count_moe,\n",
    "                                    \"poverty_rate\": poverty_rate,\n",
    "                                    \"poverty_rate_moe\": poverty_rate_moe,\n",
    "                                    \"st_abb\": st_abb,\n",
    "                                    \"state_fips\": state_fips,\n",
    "                                    \"county_fips\": county_fips})\n",
    "counties_poverty_df.head()"
   ]
  },
  {
   "cell_type": "code",
   "execution_count": null,
   "metadata": {
    "scrolled": true
   },
   "outputs": [],
   "source": [
    "# Manipulating the column name to match across all the datasets\n",
    "counties_poverty_df['county_name']= counties_poverty_df.county_name.str.replace(\"County\",\"\")\n",
    "counties_poverty_df['county_name']= counties_poverty_df['county_name'].str.upper()\n",
    "counties_poverty_df['county_name']= counties_poverty_df['county_name'].str.strip()\n",
    "counties_poverty_df"
   ]
  },
  {
   "cell_type": "code",
   "execution_count": null,
   "metadata": {},
   "outputs": [],
   "source": [
    "# unique county count\n",
    "counties_poverty_df['county_name'].nunique()"
   ]
  },
  {
   "cell_type": "markdown",
   "metadata": {},
   "source": [
    "## NJ Tax 2020"
   ]
  },
  {
   "cell_type": "code",
   "execution_count": null,
   "metadata": {},
   "outputs": [],
   "source": [
    "# create a browser instance using splinter\n",
    "executable_path = {'executable_path': ChromeDriverManager().install()}\n",
    "browser = Browser('chrome', **executable_path, headless=False)\n",
    "time.sleep(1)"
   ]
  },
  {
   "cell_type": "code",
   "execution_count": null,
   "metadata": {},
   "outputs": [],
   "source": [
    "# visit the Mars News url\n",
    "crime_NJ_URL = 'https://www.state.nj.us/treasury/taxation/lpt/taxrate.shtml'\n",
    "browser.visit(crime_NJ_URL)\n",
    "time.sleep(2)\n",
    "\n",
    "# create HTML object\n",
    "html = browser.html\n",
    "\n",
    "# parse HTML with BeautifulSoup\n",
    "soup = BeautifulSoup(html, 'lxml')"
   ]
  },
  {
   "cell_type": "code",
   "execution_count": null,
   "metadata": {},
   "outputs": [],
   "source": [
    "div = soup.find('div', class_ = 'col-lg-10 col-xl-10')\n",
    "download_file_link_partial = div.find_all('a', href = True, target =True)[0]['href']\n",
    "download_file_link_partial"
   ]
  },
  {
   "cell_type": "code",
   "execution_count": null,
   "metadata": {},
   "outputs": [],
   "source": [
    "base_url = \"https://www.state.nj.us/treasury/taxation/lpt/\"\n",
    "download_file_link = base_url + download_file_link_partial\n",
    "download_file_link"
   ]
  },
  {
   "cell_type": "code",
   "execution_count": null,
   "metadata": {},
   "outputs": [],
   "source": [
    "xls = pd.ExcelFile(download_file_link)\n",
    "tax_sheet = xls.sheet_names\n",
    "print(tax_sheet)"
   ]
  },
  {
   "cell_type": "code",
   "execution_count": null,
   "metadata": {},
   "outputs": [],
   "source": [
    "dtype_dic= {'Cty/District Code' : str, 'CNTY/DIST CODE':str}"
   ]
  },
  {
   "cell_type": "code",
   "execution_count": null,
   "metadata": {
    "scrolled": true
   },
   "outputs": [],
   "source": [
    "NJ_gen_tax_df = pd.read_excel(download_file_link,engine='xlrd',sheet_name=tax_sheet[0], skiprows=range(1), dtype = dtype_dic).dropna(how= \"any\")\n",
    "NJ_gen_tax_df = NJ_gen_tax_df.iloc[:, [0,1,2,len(NJ_gen_tax_df.columns)-1]]\n",
    "NJ_gen_tax_df.iloc[:,1] = NJ_gen_tax_df.iloc[:,1].apply(lambda x: x.zfill(4))\n",
    "NJ_gen_tax_df.rename(columns = {'County': 'county_name', 'Cty/District Code':'district_code', 'District':'district_name', 'GENERAL.23': 'general_tax_rate'},inplace = True)\n",
    "NJ_gen_tax_df.reset_index(drop= True, inplace = True)\n",
    "NJ_gen_tax_df.head()"
   ]
  },
  {
   "cell_type": "code",
   "execution_count": null,
   "metadata": {},
   "outputs": [],
   "source": [
    "NJ_eff_tax_df = pd.read_excel(download_file_link,engine='xlrd',sheet_name=tax_sheet[1], skiprows=range(1), dtype = dtype_dic).dropna(how= \"any\")\n",
    "NJ_eff_tax_df = NJ_eff_tax_df.iloc[:, [0,1,2,len(NJ_eff_tax_df.columns)-1]]\n",
    "NJ_eff_tax_df.iloc[:,1] = NJ_eff_tax_df.iloc[:,1].apply(lambda x: x.zfill(4))\n",
    "NJ_eff_tax_df.rename(columns = {'COUNTY': 'county_name', 'CNTY/DIST CODE':'district_code', 'DISTRICT':'district_name', 'EFFECTIVE.23': 'effective_tax_rate'},inplace = True)\n",
    "NJ_eff_tax_df.reset_index(drop= True, inplace = True)\n",
    "NJ_eff_tax_df.head()"
   ]
  },
  {
   "cell_type": "code",
   "execution_count": null,
   "metadata": {},
   "outputs": [],
   "source": [
    "# close the browser session    \n",
    "browser.quit()"
   ]
  },
  {
   "cell_type": "code",
   "execution_count": null,
   "metadata": {},
   "outputs": [],
   "source": [
    "NJ_tax_df = pd.merge(NJ_gen_tax_df, NJ_eff_tax_df, how = 'left', on = ['county_name', 'district_code', 'district_name'])\n",
    "NJ_tax_df.head()"
   ]
  },
  {
   "cell_type": "markdown",
   "metadata": {},
   "source": [
    "## County crime reports 2020"
   ]
  },
  {
   "cell_type": "code",
   "execution_count": null,
   "metadata": {},
   "outputs": [],
   "source": [
    "# create a browser instance using splinter\n",
    "executable_path = {'executable_path': ChromeDriverManager().install()}\n",
    "browser = Browser('chrome', **executable_path, headless=False)\n",
    "time.sleep(1)"
   ]
  },
  {
   "cell_type": "code",
   "execution_count": null,
   "metadata": {
    "scrolled": true
   },
   "outputs": [],
   "source": [
    "# visit the Mars News url\n",
    "crime_NJ_URL = 'https://www.njsp.org/ucr/current-crime-data.shtml'\n",
    "browser.visit(crime_NJ_URL)\n",
    "time.sleep(2)\n",
    "\n",
    "# create HTML object\n",
    "html = browser.html\n",
    "\n",
    "# parse HTML with BeautifulSoup\n",
    "soup = BeautifulSoup(html, 'lxml')"
   ]
  },
  {
   "cell_type": "code",
   "execution_count": null,
   "metadata": {},
   "outputs": [],
   "source": [
    "# use splinter to click on the 'Continue' button to retrieve a full-size jpg url\n",
    "browser.find_by_tag(\"input\").last.click()\n",
    "time.sleep(1)"
   ]
  },
  {
   "cell_type": "code",
   "execution_count": null,
   "metadata": {},
   "outputs": [],
   "source": [
    "# create HTML object\n",
    "html = browser.html\n",
    "# parse HTML with BeautifulSoup\n",
    "soup = BeautifulSoup(html, 'lxml')\n",
    "# fetch the table\n",
    "table = soup.find('table')\n",
    "# fetch the partial link for donwloadable file\n",
    "download_item = table.find_all('a', href = True)\n",
    "download_link= download_item[0]['href']\n",
    "# create full download link\n",
    "base_url= 'https://www.njsp.org/ucr/'\n",
    "full_file_link = base_url+download_link\n",
    "print(full_file_link)"
   ]
  },
  {
   "cell_type": "code",
   "execution_count": null,
   "metadata": {},
   "outputs": [],
   "source": [
    "# close the browser session    \n",
    "browser.quit()"
   ]
  },
  {
   "cell_type": "code",
   "execution_count": null,
   "metadata": {},
   "outputs": [],
   "source": [
    "# create xlsx object with the file from the link\n",
    "xls = pd.ExcelFile(full_file_link,\n",
    "     engine='openpyxl')\n",
    "# get all the worksheet names\n",
    "crime_sheet = xls.sheet_names\n",
    "print(crime_sheet)"
   ]
  },
  {
   "cell_type": "code",
   "execution_count": null,
   "metadata": {},
   "outputs": [],
   "source": [
    "# unique county\n",
    "len(crime_sheet[1:])"
   ]
  },
  {
   "cell_type": "code",
   "execution_count": null,
   "metadata": {},
   "outputs": [],
   "source": [
    "# create separate dataframes for each worksheet\n",
    "for i in range(1,len(crime_sheet)):\n",
    "    globals()['crime_%s' % crime_sheet[i].lower().replace(\" \", \"_\")] = pd.read_excel(full_file_link,\n",
    "     engine='openpyxl',sheet_name=crime_sheet[i], skiprows=range(3)).dropna(how=\"all\")\n",
    "    globals()['crime_%s' % crime_sheet[i].lower().replace(\" \", \"_\")][\"county_name\"] = '%s' % crime_sheet[i].upper()\n",
    "    globals()['crime_%s' % crime_sheet[i].lower().replace(\" \", \"_\")].drop(globals()['crime_%s' % crime_sheet[i].lower().replace(\" \", \"_\")].tail(7).index, inplace = True)\n",
    "    print('crime_%s' % crime_sheet[i].lower().replace(\" \", \"_\"))"
   ]
  },
  {
   "cell_type": "markdown",
   "metadata": {},
   "source": [
    "### Offline copy import"
   ]
  },
  {
   "cell_type": "code",
   "execution_count": null,
   "metadata": {},
   "outputs": [],
   "source": [
    "# del [crime_atlantic,\n",
    "# crime_bergen,\n",
    "# crime_burlington,\n",
    "# crime_camden,\n",
    "# crime_cape_may,\n",
    "# crime_cumberland,\n",
    "# crime_essex,\n",
    "# crime_gloucester,\n",
    "# crime_hudson,\n",
    "# crime_hunterdon,\n",
    "# crime_mercer,\n",
    "# crime_middlesex,\n",
    "# crime_monmouth,\n",
    "# crime_morris,\n",
    "# crime_ocean,\n",
    "# crime_passaic,\n",
    "# crime_salem,\n",
    "# crime_somerset,\n",
    "# crime_sussex,\n",
    "# crime_union,\n",
    "# crime_warren]"
   ]
  },
  {
   "cell_type": "code",
   "execution_count": null,
   "metadata": {},
   "outputs": [],
   "source": [
    "# source : https://www.njsp.org/ucr/current-crime-data1.shtml?agree=0\n",
    "# xls = pd.ExcelFile(os.path.join(\"data\", \"2020_UCR_Jan-Sept_v2.xlsx\"),\n",
    "#      engine='openpyxl')"
   ]
  },
  {
   "cell_type": "code",
   "execution_count": null,
   "metadata": {},
   "outputs": [],
   "source": [
    "# crime_sheet = xls.sheet_names\n",
    "# crime_sheet"
   ]
  },
  {
   "cell_type": "code",
   "execution_count": null,
   "metadata": {},
   "outputs": [],
   "source": [
    "# for i in range(1,len(crime_sheet)):\n",
    "#     globals()['crime_%s' % crime_sheet[i].lower()] = pd.read_excel(os.path.join(\"data\", \"2020_UCR_Jan-Sept_v2.xlsx\"),\n",
    "#      engine='openpyxl',sheet_name=crime_sheet[i], skiprows=range(3)).dropna(how=\"all\")\n",
    "#     print('crime_%s' % crime_sheet[i].lower())"
   ]
  },
  {
   "cell_type": "code",
   "execution_count": null,
   "metadata": {},
   "outputs": [],
   "source": [
    "# concat all the dataframes\n",
    "all_crime_df = pd.concat([crime_atlantic,\n",
    "crime_bergen,\n",
    "crime_burlington,\n",
    "crime_camden,\n",
    "crime_cape_may,\n",
    "crime_cumberland,\n",
    "crime_essex,\n",
    "crime_gloucester,\n",
    "crime_hudson,\n",
    "crime_hunterdon,\n",
    "crime_mercer,\n",
    "crime_middlesex,\n",
    "crime_monmouth,\n",
    "crime_morris,\n",
    "crime_ocean,\n",
    "crime_passaic,\n",
    "crime_salem,\n",
    "crime_somerset,\n",
    "crime_sussex,\n",
    "crime_union,\n",
    "crime_warren], ignore_index = True)"
   ]
  },
  {
   "cell_type": "code",
   "execution_count": null,
   "metadata": {},
   "outputs": [],
   "source": [
    "# make all the column name lower case\n",
    "all_crime_df.columns= all_crime_df.columns.str.lower()\n",
    "all_crime_df.columns= all_crime_df.columns.str.replace(\" \",\"_\")\n",
    "all_crime_df.head(10)"
   ]
  },
  {
   "cell_type": "markdown",
   "metadata": {},
   "source": [
    "### Population dataset"
   ]
  },
  {
   "cell_type": "code",
   "execution_count": null,
   "metadata": {
    "scrolled": false
   },
   "outputs": [],
   "source": [
    "population_df = all_crime_df[[\"county_name\",\"agency\", \"orinumber\", \"population\"]].dropna(how=\"any\")\n",
    "population_df[\"population\"] = population_df[\"population\"].astype(int)\n",
    "population_df.drop_duplicates(keep='first', inplace= True, ignore_index=True)\n",
    "population_df.head(-10)"
   ]
  },
  {
   "cell_type": "code",
   "execution_count": null,
   "metadata": {},
   "outputs": [],
   "source": [
    "# unique county count\n",
    "population_df['county_name'].nunique()"
   ]
  },
  {
   "cell_type": "code",
   "execution_count": null,
   "metadata": {},
   "outputs": [],
   "source": [
    "len(population_df)"
   ]
  },
  {
   "cell_type": "markdown",
   "metadata": {},
   "source": [
    "### Crime detail"
   ]
  },
  {
   "cell_type": "code",
   "execution_count": null,
   "metadata": {},
   "outputs": [],
   "source": [
    "# create a list of all police department\n",
    "pol_dep = []\n",
    "for i in range(len(population_df[\"agency\"])):\n",
    "    for k in range(5):\n",
    "        pol_dep.append(population_df[\"agency\"][i])\n",
    "print(pol_dep)"
   ]
  },
  {
   "cell_type": "code",
   "execution_count": null,
   "metadata": {},
   "outputs": [],
   "source": [
    "len(pol_dep)"
   ]
  },
  {
   "cell_type": "code",
   "execution_count": null,
   "metadata": {
    "scrolled": true
   },
   "outputs": [],
   "source": [
    "# Alogning the crime data to ingest the police deprtment list as a column\n",
    "crime_det_df = all_crime_df[[\"county_name\",\"agency\", \"murder\", \"rape\", \"robbery\", \"assault\", \"burglary\",\\\n",
    "                         \"larceny\", \"auto_theft\", \"total\"]].dropna(how=\"any\")\n",
    "\n",
    "crime_det_df.rename(columns = {\"agency\": \"report_type\"}, inplace =True)\n",
    "\n",
    "crime_det_df = crime_det_df.loc[crime_det_df[\"report_type\"] != crime_det_df[\"report_type\"].shift()]\n",
    "crime_det_df.reset_index(inplace= True, drop = True)\n",
    "crime_det_df[\"police_dept\"] = pol_dep\n",
    "crime_det_df = crime_det_df[[\"county_name\",\"police_dept\", \"report_type\", \"murder\", \"rape\", \"robbery\", \"assault\", \"burglary\",\\\n",
    "                         \"larceny\", \"auto_theft\", \"total\"]]\n",
    "crime_det_df.head(-1)"
   ]
  },
  {
   "cell_type": "markdown",
   "metadata": {},
   "source": [
    "### Crime summary dataset"
   ]
  },
  {
   "cell_type": "code",
   "execution_count": null,
   "metadata": {
    "scrolled": true
   },
   "outputs": [],
   "source": [
    "# creatuion of crime summary dataset\n",
    "crime_df = all_crime_df[[\"county_name\",\"agency\", \"murder\", \"rape\", \"robbery\", \"assault\", \"burglary\",\\\n",
    "                         \"larceny\", \"auto_theft\", \"total\"]].dropna(how=\"any\")\n",
    "crime_df.reset_index(inplace= True, drop = True)\n",
    "crime_df.rename(columns = {\"agency\": \"report_type\"}, inplace =True)\n",
    "crime_df = crime_df.groupby(['county_name', 'report_type'],as_index=False).agg(murder = ('murder', 'sum'), rape = ('rape', 'sum'),\\\n",
    "                                                               robbery = ('robbery', 'sum'),assault = ('assault', 'sum'),\\\n",
    "                                                               burglary = ('burglary', 'sum'),larceny = ('larceny', 'sum'),\\\n",
    "                                                               auto_theft = ('auto_theft', 'sum'),total = ('total', 'sum'))\n",
    "crime_df.head(-10)"
   ]
  },
  {
   "cell_type": "code",
   "execution_count": null,
   "metadata": {},
   "outputs": [],
   "source": [
    "# unique county count\n",
    "crime_df['county_name'].nunique()"
   ]
  },
  {
   "cell_type": "code",
   "execution_count": null,
   "metadata": {},
   "outputs": [],
   "source": [
    "# county record count\n",
    "crime_df['county_name'].value_counts()"
   ]
  },
  {
   "cell_type": "markdown",
   "metadata": {},
   "source": [
    "# DB load"
   ]
  },
  {
   "cell_type": "code",
   "execution_count": null,
   "metadata": {},
   "outputs": [],
   "source": [
    "# Connect to the NJ_CPS database\n",
    "connection  = sqlite3.connect(\"Resources/NJ_CPS.sqlite\")\n",
    "\n",
    "# Get a cursor object\n",
    "cursor = connection.cursor()\n",
    "\n",
    "# Execute the DROP Table SQL statement\n",
    "drop_school = \"DROP TABLE IF EXISTS NJ_school_rating\"\n",
    "\n",
    "cursor.execute(drop_school)\n",
    "\n",
    "drop_poverty = \"DROP TABLE IF EXISTS NJ_poverty\"\n",
    "\n",
    "cursor.execute(drop_poverty)\n",
    "\n",
    "drop_population = \"DROP TABLE IF EXISTS NJ_population\"\n",
    "\n",
    "cursor.execute(drop_population)\n",
    "\n",
    "drop_crime = \"DROP TABLE IF EXISTS NJ_crime\"\n",
    "\n",
    "cursor.execute(drop_crime)\n",
    "\n",
    "drop_crime_det = \"DROP TABLE IF EXISTS NJ_crime_detail\"\n",
    "\n",
    "cursor.execute(drop_crime_det)\n",
    "\n",
    "drop_tax = \"DROP TABLE IF EXISTS NJ_tax\"\n",
    "\n",
    "cursor.execute(drop_tax)\n",
    "\n",
    "drop_geojson = \"DROP TABLE IF EXISTS NJ_geojson\"\n",
    "\n",
    "cursor.execute(drop_geojson)"
   ]
  },
  {
   "cell_type": "code",
   "execution_count": null,
   "metadata": {},
   "outputs": [],
   "source": [
    "#  SQLite DB creation and establishing connection\n",
    "database_path = \"Resources/NJ_CPS.sqlite\"\n",
    "engine = create_engine(f\"sqlite:///{database_path}\", echo=True)\n",
    "sqlite_connection = engine.connect()"
   ]
  },
  {
   "cell_type": "markdown",
   "metadata": {},
   "source": [
    "## Loading county tax in to DB"
   ]
  },
  {
   "cell_type": "code",
   "execution_count": null,
   "metadata": {},
   "outputs": [],
   "source": [
    "sqlite_table = \"NJ_tax\"\n",
    "NJ_tax_df.to_sql(sqlite_table, sqlite_connection, if_exists='replace', index=False)"
   ]
  },
  {
   "cell_type": "markdown",
   "metadata": {},
   "source": [
    "## Loading school ratings in to DB"
   ]
  },
  {
   "cell_type": "code",
   "execution_count": null,
   "metadata": {
    "scrolled": true
   },
   "outputs": [],
   "source": [
    "sqlite_table = \"NJ_school_rating\"\n",
    "school_rating_df.to_sql(sqlite_table, sqlite_connection, if_exists='replace', index=False)"
   ]
  },
  {
   "cell_type": "markdown",
   "metadata": {},
   "source": [
    "## Loading poverty rates in DB"
   ]
  },
  {
   "cell_type": "code",
   "execution_count": null,
   "metadata": {
    "scrolled": true
   },
   "outputs": [],
   "source": [
    "sqlite_table = \"NJ_poverty\"\n",
    "counties_poverty_df.to_sql(sqlite_table, sqlite_connection, if_exists='replace', index=False)"
   ]
  },
  {
   "cell_type": "markdown",
   "metadata": {},
   "source": [
    "## Loading crime detail data in DB"
   ]
  },
  {
   "cell_type": "code",
   "execution_count": null,
   "metadata": {},
   "outputs": [],
   "source": [
    "sqlite_table = \"NJ_crime_detail\"\n",
    "crime_det_df.to_sql(sqlite_table, sqlite_connection, if_exists='replace', index=False)"
   ]
  },
  {
   "cell_type": "markdown",
   "metadata": {},
   "source": [
    "## Loading crime data in DB"
   ]
  },
  {
   "cell_type": "code",
   "execution_count": null,
   "metadata": {
    "scrolled": true
   },
   "outputs": [],
   "source": [
    "sqlite_table = \"NJ_crime\"\n",
    "crime_df.to_sql(sqlite_table, sqlite_connection, if_exists='replace', index=False)"
   ]
  },
  {
   "cell_type": "markdown",
   "metadata": {},
   "source": [
    "## Loading population data in DB"
   ]
  },
  {
   "cell_type": "code",
   "execution_count": null,
   "metadata": {
    "scrolled": true
   },
   "outputs": [],
   "source": [
    "sqlite_table = \"NJ_population\"\n",
    "population_df.to_sql(sqlite_table, sqlite_connection, if_exists='replace', index=False)"
   ]
  },
  {
   "cell_type": "markdown",
   "metadata": {},
   "source": [
    "# DB query Test"
   ]
  },
  {
   "cell_type": "code",
   "execution_count": null,
   "metadata": {},
   "outputs": [],
   "source": [
    "metadata_df = pd.read_sql_query(\"SELECT T1.*, T2.population, T3.general_tax_rate, T3.effective_tax_rate FROM (SELECT county_name,median_hh_income,poverty_rate FROM NJ_poverty) AS T1 \\\n",
    "                                INNER JOIN (SELECT county_name, SUM(population) as population FROM NJ_population GROUP BY county_name) AS T2\\\n",
    "                                ON T1.county_name = T2.county_name \\\n",
    "                                INNER JOIN (SELECT county_name, AVG(general_tax_rate) as general_tax_rate, AVG(effective_tax_rate) as effective_tax_rate FROM NJ_tax GROUP BY county_name) AS T3 \\\n",
    "                                ON T1.county_name = T3.county_name\", sqlite_connection)\n",
    "metadata_df[\"median_hh_income\"] = metadata_df[\"median_hh_income\"].astype(int)\n",
    "metadata_df"
   ]
  },
  {
   "cell_type": "code",
   "execution_count": null,
   "metadata": {
    "scrolled": false
   },
   "outputs": [],
   "source": [
    "crime_df = pd.read_sql_query(\"SELECT county_name, murder,rape, robbery, assault, burglary, larceny, auto_theft, total FROM NJ_crime WHERE report_type = 'Number of Offenses'\", sqlite_connection)\n",
    "crime_df.head()"
   ]
  },
  {
   "cell_type": "code",
   "execution_count": null,
   "metadata": {},
   "outputs": [],
   "source": [
    "query = '''SELECT POV.county_name, POV.median_hh_income, POV.poverty_rate, POV.county_fips,\n",
    "           CRM.total AS total_offense, ROUND(CRM2.total,2) AS rate_per_100k, CRM3.total AS total_arrest,\n",
    "           POP.population, SCH.school_rank, (TAX.general_tax_rate + TAX.effective_tax_rate)/2 AS tax_rate\n",
    "           FROM NJ_poverty AS POV \n",
    "           INNER JOIN NJ_crime AS CRM ON POV.county_name = CRM.county_name AND CRM.report_type = 'Number of Offenses'\n",
    "           INNER JOIN NJ_crime AS CRM2 ON POV.county_name = CRM2.county_name AND CRM2.report_type = 'Rate Per 100,000'\n",
    "           INNER JOIN NJ_crime AS CRM3 ON POV.county_name = CRM3.county_name AND CRM3.report_type = 'Number of Arrests'\n",
    "           INNER JOIN (SELECT county_name, SUM(population) AS population FROM NJ_population GROUP BY county_name) AS POP ON POV.county_name = POP.county_name\n",
    "           INNER JOIN (SELECT county_name, ROUND(AVG(summativescore),2) AS school_rank FROM NJ_school_rating GROUP BY county_name) AS SCH ON POV.county_name = SCH.county_name\n",
    "           INNER JOIN (SELECT county_name, AVG(general_tax_rate) as general_tax_rate, AVG(effective_tax_rate) as effective_tax_rate FROM NJ_tax GROUP BY county_name) AS TAX ON POV.county_name = TAX.county_name'''\n",
    "df = pd.read_sql(query, sqlite_connection)\n",
    "df.head()"
   ]
  },
  {
   "cell_type": "code",
   "execution_count": null,
   "metadata": {},
   "outputs": [],
   "source": [
    "query2 = '''SELECT DISTINCT county_name||\"-\"||police_dept AS id ,police_dept AS label,  \"NJ-\"||county_name AS parent, SUM(count) AS value FROM \n",
    "        (SELECT county_name,police_dept, 'murder' AS crime_type, SUM(murder) AS count FROM NJ_crime WHERE report_type = 'Number of Offenses' GROUP BY 1,2,3\n",
    "    UNION ALL SELECT county_name, police_dept, 'rape' AS crime_type, SUM(rape) AS count FROM NJ_crime WHERE report_type = 'Number of Offenses' GROUP BY 1,2,3\n",
    "    UNION ALL SELECT county_name, police_dept, 'robbery' AS crime_type, SUM(robbery) AS count FROM NJ_crime WHERE report_type = 'Number of Offenses' GROUP BY 1,2,3\n",
    "    UNION ALL SELECT county_name, police_dept,'assault' AS crime_type, SUM(assault) AS count FROM NJ_crime WHERE report_type = 'Number of Offenses' GROUP BY 1,2,3\n",
    "    UNION ALL SELECT county_name, police_dept,'burglary' AS crime_type, SUM(burglary) AS count FROM NJ_crime WHERE report_type = 'Number of Offenses' GROUP BY 1,2,3\n",
    "    UNION ALL SELECT county_name, police_dept,'larceny' AS crime_type, SUM(larceny) AS count FROM NJ_crime WHERE report_type = 'Number of Offenses' GROUP BY 1,2,3\n",
    "    UNION ALL SELECT county_name, police_dept,'auto_theft' AS crime_type, SUM(auto_theft) AS count FROM NJ_crime WHERE report_type = 'Number of Offenses' GROUP BY 1,2,3)\n",
    "    GROUP BY 1,2,3'''\n",
    "df2 = pd.read_sql(query2, sqlite_connection)\n",
    "df2.head()"
   ]
  },
  {
   "cell_type": "code",
   "execution_count": null,
   "metadata": {
    "scrolled": true
   },
   "outputs": [],
   "source": [
    "query = '''SELECT POV.county_name, POV.median_hh_income, POV.poverty_rate, POV.county_fips,\n",
    "               CRM.total AS total_offense, CRM2.total AS rate_per_100k, CRM3.total AS total_arrest,\n",
    "               POP.population, SCH.school_rank\n",
    "               FROM NJ_poverty AS POV \n",
    "               INNER JOIN NJ_crime AS CRM ON POV.county_name = CRM.county_name AND CRM.report_type = 'Number of Offenses'\n",
    "               INNER JOIN NJ_crime AS CRM2 ON POV.county_name = CRM2.county_name AND CRM2.report_type = 'Rate Per 100,000'\n",
    "               INNER JOIN NJ_crime AS CRM3 ON POV.county_name = CRM3.county_name AND CRM3.report_type = 'Number of Arrests'\n",
    "               INNER JOIN (SELECT county_name, SUM(population) AS population FROM NJ_population GROUP BY county_name) AS POP ON POV.county_name = POP.county_name\n",
    "               INNER JOIN (SELECT county_name, AVG(summativescore) AS school_rank FROM NJ_school_rating GROUP BY county_name) AS SCH ON POV.county_name = SCH.county_name'''\n",
    "test = pd.read_sql_query(query, sqlite_connection)\n",
    "test"
   ]
  },
  {
   "cell_type": "code",
   "execution_count": null,
   "metadata": {
    "scrolled": true
   },
   "outputs": [],
   "source": [
    "query = '''SELECT county_name, 'murder' AS crime_type, murder AS count FROM NJ_crime WHERE report_type = 'Number of Offenses'\n",
    "        UNION ALL SELECT county_name, 'rape' AS crime_type, rape AS count FROM NJ_crime WHERE report_type = 'Number of Offenses'\n",
    "        UNION ALL SELECT county_name, 'robbery' AS crime_type, robbery AS count FROM NJ_crime WHERE report_type = 'Number of Offenses'\n",
    "        UNION ALL SELECT county_name, 'assault' AS crime_type, assault AS count FROM NJ_crime WHERE report_type = 'Number of Offenses'\n",
    "        UNION ALL SELECT county_name, 'burglary' AS crime_type, burglary AS count FROM NJ_crime WHERE report_type = 'Number of Offenses'\n",
    "        UNION ALL SELECT county_name, 'larceny' AS crime_type, larceny AS count FROM NJ_crime WHERE report_type = 'Number of Offenses'\n",
    "        UNION ALL SELECT county_name, 'auto_theft' AS crime_type, auto_theft AS count FROM NJ_crime WHERE report_type = 'Number of Offenses'\n",
    "        '''\n",
    "test = pd.read_sql_query(query, sqlite_connection)\n",
    "test"
   ]
  },
  {
   "cell_type": "code",
   "execution_count": null,
   "metadata": {},
   "outputs": [],
   "source": [
    "query1 = '''SELECT DISTINCT \"NJ-\"||county_name AS id , county_name AS label,  '' AS parent, AVG(summativescore) AS value FROM \n",
    "        NJ_school_rating GROUP BY 1,2,3'''\n",
    "df1 = pd.read_sql(query1, sqlite_connection)\n",
    "df1.head()"
   ]
  },
  {
   "cell_type": "code",
   "execution_count": null,
   "metadata": {},
   "outputs": [],
   "source": [
    "query2 = '''SELECT DISTINCT county_name||\"-\"||district_name AS id ,district_name AS label,  \"NJ-\"||county_name AS parent, AVG(summativescore) AS value FROM \n",
    "        NJ_school_rating GROUP BY 1,2,3'''\n",
    "df2 = pd.read_sql(query2, sqlite_connection)\n",
    "df2.head()"
   ]
  },
  {
   "cell_type": "code",
   "execution_count": null,
   "metadata": {},
   "outputs": [],
   "source": [
    "query3 = '''SELECT DISTINCT district_name||\"-\"||school_name AS id ,school_name AS label,  county_name||\"-\"||district_name AS parent, AVG(summativescore) AS value FROM \n",
    "    NJ_school_rating GROUP BY 1,2,3'''\n",
    "df3 = pd.read_sql(query3, sqlite_connection)\n",
    "df3.head()"
   ]
  },
  {
   "cell_type": "code",
   "execution_count": null,
   "metadata": {
    "scrolled": true
   },
   "outputs": [],
   "source": [
    "query = '''SELECT county_name,district_name,gradespan,school_name,summativescore\n",
    "            FROM \n",
    "              ( SELECT county_name,district_name,gradespan,school_name, summativescore,\n",
    "                       ROW_NUMBER() OVER (PARTITION BY county_name\n",
    "                                          ORDER BY summativescore DESC) AS rn\n",
    "                FROM NJ_school_rating) AS tmp \n",
    "            WHERE rn <= 3\n",
    "            ORDER BY county_name ; '''\n",
    "test = pd.read_sql_query(query, sqlite_connection)\n",
    "test"
   ]
  },
  {
   "cell_type": "code",
   "execution_count": null,
   "metadata": {
    "scrolled": true
   },
   "outputs": [],
   "source": [
    "test = test.to_dict(orient='records')\n",
    "pprint(test)"
   ]
  },
  {
   "cell_type": "code",
   "execution_count": null,
   "metadata": {
    "scrolled": true
   },
   "outputs": [],
   "source": [
    "query1 = '''SELECT DISTINCT \"NJ-\"||county_name AS id , county_name AS label,  '' AS parent, SUM(population) AS value \n",
    "            FROM NJ_population                                                                                                  \n",
    "            GROUP BY 1,2,3'''\n",
    "df1 = pd.read_sql(query1, sqlite_connection)\n",
    "df1.head()"
   ]
  },
  {
   "cell_type": "code",
   "execution_count": null,
   "metadata": {},
   "outputs": [],
   "source": [
    "query2 = '''SELECT DISTINCT county_name||\"-\"||agency AS id ,agency AS label,  \"NJ-\"||county_name AS parent, SUM(population) AS value\n",
    "            FROM NJ_population  GROUP BY 1,2,3'''\n",
    "df2 = pd.read_sql(query2, sqlite_connection)\n",
    "df2.head()"
   ]
  },
  {
   "cell_type": "code",
   "execution_count": null,
   "metadata": {},
   "outputs": [],
   "source": [
    "sqlite_connection.close()"
   ]
  },
  {
   "cell_type": "markdown",
   "metadata": {},
   "source": [
    "# JSON creation"
   ]
  },
  {
   "cell_type": "code",
   "execution_count": null,
   "metadata": {},
   "outputs": [],
   "source": [
    "flare = {}\n",
    "flare[\"name\"] = \"flare\"\n",
    "flare[\"description\"] = \"flare\"\n",
    "flare"
   ]
  },
  {
   "cell_type": "code",
   "execution_count": null,
   "metadata": {},
   "outputs": [],
   "source": [
    "counties = list(test['county_name'].unique())\n",
    "# counties"
   ]
  },
  {
   "cell_type": "code",
   "execution_count": null,
   "metadata": {},
   "outputs": [],
   "source": [
    "children = []\n",
    "for i in range(len(counties)):\n",
    "    child1 = {}\n",
    "    child1[\"name\"] = counties[i]\n",
    "    child1[\"description\"] = test['rating'].loc[test['county_name']==counties[i]].mean()\n",
    "    district = list(test['district_name'].loc[test['county_name']==counties[i]].unique())\n",
    "    child2_list = []\n",
    "    for k in range(len(district)):\n",
    "        child2 = {}\n",
    "        child2[\"name\"] = district[k]\n",
    "        child2[\"description\"] = test['rating'].loc[(test['county_name']==counties[i]) & (test['district_name'] == district[k])].mean()\n",
    "        child3_list = []\n",
    "        gradespan = list(test['gradespan'].loc[(test['county_name']==counties[i]) & (test['district_name'] == district[k])].unique())\n",
    "        for j in range(len(gradespan)):\n",
    "            child3 = {}\n",
    "            child3[\"name\"] = gradespan[j]\n",
    "            child3[\"description\"] = test[\"rating\"].loc[(test['county_name']==counties[i]) & (test['district_name'] == district[k]) & (test['gradespan'] == gradespan[j])].mean()\n",
    "            child4_list = []\n",
    "            for index,row in test.loc[(test['county_name']==counties[i]) & (test['district_name'] == district[k]) & (test['gradespan'] == gradespan[j])].iterrows():\n",
    "                child4 = {}\n",
    "                child4[\"name\"] = row[\"school_name\"]\n",
    "                child4[\"description\"] = row[\"rating\"]\n",
    "                child4[\"size\"] = row[\"rating\"]\n",
    "                child4_list.append(child4)\n",
    "            child3[\"children\"] = child4_list\n",
    "            child3_list.append(child3)\n",
    "        child2[\"children\"] = child3_list\n",
    "        child2_list.append(child2)\n",
    "    child1[\"children\"] = child2_list\n",
    "    children.append(child1)\n",
    "children"
   ]
  },
  {
   "cell_type": "code",
   "execution_count": null,
   "metadata": {},
   "outputs": [],
   "source": [
    "flare[\"children\"] = children\n",
    "flare"
   ]
  },
  {
   "cell_type": "code",
   "execution_count": null,
   "metadata": {},
   "outputs": [],
   "source": [
    "with open(\"static/data/school.json\", \"w\",encoding ='utf8') as outfile:  \n",
    "    json.dump(flare, outfile, indent = 1) "
   ]
  },
  {
   "cell_type": "code",
   "execution_count": null,
   "metadata": {},
   "outputs": [],
   "source": [
    "metadata_df = pd.read_sql_query(\"SELECT T1.*, T2.population, T3.general_tax_rate, T3.effective_tax_rate FROM (SELECT county_name,median_hh_income,poverty_rate FROM NJ_poverty) AS T1 \\\n",
    "                            INNER JOIN (SELECT county_name, SUM(population) as population FROM NJ_population GROUP BY county_name) AS T2\\\n",
    "                            ON T1.county_name = T2.county_name \\\n",
    "                            INNER JOIN (SELECT county_name, AVG(general_tax_rate) as general_tax_rate, AVG(effective_tax_rate) as effective_tax_rate FROM NJ_tax GROUP BY county_name) AS T3 \\\n",
    "                            ON T1.county_name = T3.county_name\", sqlite_connection)\n",
    "metadata_dict = metadata_df.to_dict(orient='records')\n",
    "\n",
    "school_df = pd.read_sql_query(\"SELECT county_name,district_code||school_code AS school_id, school_name,rating AS summativescore FROM NJ_school_rating WHERE county_name <> 'CHARTERS' ORDER BY county_name, rating DESC\", sqlite_connection)\n",
    "school_dict = school_df.to_dict(orient='records')\n",
    "\n",
    "crime_df = pd.read_sql_query(\"SELECT county_name, murder,rape, robbery, assault, burglary, larceny, auto_theft, total FROM NJ_crime WHERE report_type = 'Number of Offenses'\", sqlite_connection)\n",
    "crime_dict = crime_df.to_dict(orient='records')\n",
    "\n",
    "sqlite_connection.close()\n",
    "\n",
    "data_json= {}\n",
    "data_json[\"metadata\"] = metadata_dict\n",
    "data_json[\"school\"] = school_dict\n",
    "data_json[\"crime\"] = crime_dict\n",
    "data_json"
   ]
  },
  {
   "cell_type": "code",
   "execution_count": null,
   "metadata": {},
   "outputs": [],
   "source": [
    "with open(\"static/data/plotly.json\", \"w\",encoding ='utf8') as outfile:  \n",
    "    json.dump(data_json, outfile, indent = 1) "
   ]
  },
  {
   "cell_type": "code",
   "execution_count": null,
   "metadata": {},
   "outputs": [],
   "source": [
    "query = '''SELECT county_name,district_name,general_tax_rate,effective_tax_rate FROM NJ_tax'''\n",
    "test = pd.read_sql_query(query, sqlite_connection)\n",
    "test"
   ]
  },
  {
   "cell_type": "code",
   "execution_count": null,
   "metadata": {},
   "outputs": [],
   "source": [
    "flare = {}\n",
    "flare[\"name\"] = \"flare\"\n",
    "flare[\"description\"] = \"flare\"\n",
    "flare"
   ]
  },
  {
   "cell_type": "code",
   "execution_count": null,
   "metadata": {},
   "outputs": [],
   "source": [
    "counties = list(test['county_name'].unique())\n",
    "# counties"
   ]
  },
  {
   "cell_type": "code",
   "execution_count": null,
   "metadata": {},
   "outputs": [],
   "source": [
    "children = []\n",
    "for i in range(len(counties)):\n",
    "    child1 = {}\n",
    "    child1[\"name\"] = counties[i]\n",
    "    child1[\"description\"] = test['effective_tax_rate'].loc[test['county_name']==counties[i]].mean()\n",
    "    district = list(test['district_name'].loc[test['county_name']==counties[i]].unique())\n",
    "    child2_list = []\n",
    "    for k in range(len(district)):\n",
    "        for index,row in test.loc[(test['county_name']==counties[i]) & (test['district_name'] == district[k])].iterrows():\n",
    "            child2 = {}\n",
    "            child2[\"name\"] = row[\"district_name\"]\n",
    "            child2[\"description\"] = row[\"general_tax_rate\"]\n",
    "            child2[\"size\"] = row[\"effective_tax_rate\"]\n",
    "            child2_list.append(child2)\n",
    "    child1[\"children\"] = child2_list\n",
    "    children.append(child1)\n",
    "children"
   ]
  },
  {
   "cell_type": "code",
   "execution_count": null,
   "metadata": {},
   "outputs": [],
   "source": [
    "flare[\"children\"] = children\n",
    "flare"
   ]
  },
  {
   "cell_type": "code",
   "execution_count": null,
   "metadata": {},
   "outputs": [],
   "source": [
    "with open(\"static/data/tax_sunburst.json\", \"w\",encoding ='utf8') as outfile:  \n",
    "    json.dump(flare, outfile, indent = 1) "
   ]
  },
  {
   "cell_type": "code",
   "execution_count": null,
   "metadata": {},
   "outputs": [],
   "source": [
    "query = ''' SELECT * FROM (SELECT county_name, police_dept, 'murder' AS crime_type, murder AS count FROM NJ_crime_detail  WHERE report_type = 'Rate Per 100,000' AND total <> 0\n",
    "        UNION ALL SELECT county_name, police_dept, 'rape' AS crime_type, rape AS count FROM NJ_crime_detail  WHERE report_type = 'Rate Per 100,000' AND total <> 0\n",
    "        UNION ALL SELECT county_name, police_dept, 'robbery' AS crime_type, robbery AS count FROM NJ_crime_detail  WHERE report_type = 'Rate Per 100,000' AND total <> 0\n",
    "        UNION ALL SELECT county_name, police_dept, 'assault' AS crime_type, assault AS count FROM NJ_crime_detail  WHERE report_type = 'Rate Per 100,000' AND total <> 0\n",
    "        UNION ALL SELECT county_name, police_dept, 'burglary' AS crime_type, burglary AS count FROM NJ_crime_detail  WHERE report_type = 'Rate Per 100,000' AND total <> 0\n",
    "        UNION ALL SELECT county_name, police_dept, 'larceny' AS crime_type, larceny AS count FROM NJ_crime_detail  WHERE report_type = 'Rate Per 100,000' AND total <> 0\n",
    "        UNION ALL SELECT county_name, police_dept, 'auto_theft' AS crime_type, auto_theft AS count FROM NJ_crime_detail  WHERE report_type = 'Rate Per 100,000' AND total <> 0)\n",
    "        ORDER BY 1,2,3'''"
   ]
  },
  {
   "cell_type": "code",
   "execution_count": null,
   "metadata": {},
   "outputs": [],
   "source": [
    "test = pd.read_sql_query(query, sqlite_connection)\n",
    "test.head()"
   ]
  },
  {
   "cell_type": "code",
   "execution_count": null,
   "metadata": {},
   "outputs": [],
   "source": [
    "flare = {}\n",
    "flare[\"name\"] = \"crime\"\n",
    "flare[\"description\"] = \"crime\"\n",
    "flare"
   ]
  },
  {
   "cell_type": "code",
   "execution_count": null,
   "metadata": {},
   "outputs": [],
   "source": [
    "counties = list(test['county_name'].unique())"
   ]
  },
  {
   "cell_type": "code",
   "execution_count": null,
   "metadata": {},
   "outputs": [],
   "source": [
    "children = []\n",
    "for i in range(len(counties)):\n",
    "    child1 = {}\n",
    "    child1[\"name\"] = counties[i]\n",
    "    child1[\"description\"] = test['count'].loc[test['county_name']==counties[i]].mean()\n",
    "    police_dept = list(test['police_dept'].loc[test['county_name']==counties[i]].unique())\n",
    "    child2_list = []\n",
    "    for k in range(len(police_dept)):\n",
    "        child2 = {}\n",
    "        child2[\"name\"] = police_dept[k]\n",
    "        child2[\"description\"] = test['count'].loc[(test['county_name']==counties[i]) & (test['police_dept'] == police_dept[k])].mean()\n",
    "        child3_list = []\n",
    "        crime_type = list(test['crime_type'].loc[(test['county_name']==counties[i]) & (test['police_dept'] == police_dept[k])].unique())\n",
    "        for j in range(len(crime_type)):\n",
    "            for index,row in test.loc[(test['county_name']==counties[i]) & (test['police_dept'] == police_dept[k]) & (test['crime_type'] == crime_type[j])].iterrows():\n",
    "                child3 = {}\n",
    "                child3[\"name\"] = row[\"crime_type\"]\n",
    "                child3[\"description\"] = row[\"count\"]\n",
    "                child3[\"size\"] = row[\"count\"]\n",
    "                child3_list.append(child3)\n",
    "            child2[\"children\"] = child3_list\n",
    "        child2_list.append(child2)\n",
    "    child1[\"children\"] = child2_list\n",
    "    children.append(child1)\n",
    "children"
   ]
  },
  {
   "cell_type": "code",
   "execution_count": null,
   "metadata": {},
   "outputs": [],
   "source": [
    "flare[\"children\"] = children\n",
    "flare"
   ]
  },
  {
   "cell_type": "code",
   "execution_count": null,
   "metadata": {},
   "outputs": [],
   "source": [
    "with open(\"static/data/crime.json\", \"w\",encoding ='utf8') as outfile:  \n",
    "    json.dump(flare, outfile, indent = 1) "
   ]
  },
  {
   "cell_type": "code",
   "execution_count": null,
   "metadata": {},
   "outputs": [],
   "source": [
    "sqlite_connection.close()"
   ]
  },
  {
   "cell_type": "markdown",
   "metadata": {},
   "source": [
    "# Linear regression"
   ]
  },
  {
   "cell_type": "code",
   "execution_count": null,
   "metadata": {},
   "outputs": [],
   "source": [
    "import matplotlib.pyplot as plt\n",
    "import seaborn as sn\n",
    "import scipy.stats as st\n",
    "from scipy.stats import linregress\n",
    "from scipy.stats import sem"
   ]
  },
  {
   "cell_type": "code",
   "execution_count": null,
   "metadata": {
    "scrolled": true
   },
   "outputs": [],
   "source": [
    "test.columns"
   ]
  },
  {
   "cell_type": "code",
   "execution_count": null,
   "metadata": {},
   "outputs": [],
   "source": [
    "test.dtypes"
   ]
  },
  {
   "cell_type": "code",
   "execution_count": null,
   "metadata": {
    "scrolled": true
   },
   "outputs": [],
   "source": [
    "# Calculate the correlation coefficient and linear regression model \n",
    "x = test['tax'].astype(float)\n",
    "# x = test['school_rank']\n",
    "y = test['total_crime']\n",
    "\n",
    "correlation = st.pearsonr(x,y)\n",
    "\n",
    "# Print the answer to above calculation\n",
    "print(f\"\"\"The correlation between school_rank and total_offense is {round(correlation[0],2)}.\"\"\")\n",
    "\n",
    "# Calculate linear regression\n",
    "(slope, intercept, rvalue, pvalue, stderr) = linregress(x, y)\n",
    "regress_values = x * slope + intercept\n",
    "line_eq = \"y = \" + str(round(slope,2)) + \"x + \" + str(round(intercept,2))\n",
    "\n",
    "# Plot linear regression on top of scatter plot\n",
    "plt.scatter(x,y)\n",
    "plt.plot(x,regress_values,\"r-\")\n",
    "\n",
    "# Annotate linear regression\n",
    "plt.annotate(line_eq,(20,36),fontsize=16,color=\"red\")\n",
    "\n",
    "# Add labels and title to plot\n",
    "plt.xlabel(\"tax\")\n",
    "plt.ylabel(\"total_crime\")\n",
    "plt.title('total_offense by tax')\n",
    "# plt.savefig(\"Images/scatter_line_plot.png\")\n",
    "plt.show()"
   ]
  },
  {
   "cell_type": "markdown",
   "metadata": {},
   "source": [
    "# GeoJson creation"
   ]
  },
  {
   "cell_type": "code",
   "execution_count": 3,
   "metadata": {
    "scrolled": false
   },
   "outputs": [],
   "source": [
    "geojson_url = 'https://opendata.arcgis.com/datasets/5f45e1ece6e14ef5866974a7b57d3b95_1.geojson'\n",
    "geojson = requests.get(geojson_url).json()\n",
    "# pprint(geojson)"
   ]
  },
  {
   "cell_type": "code",
   "execution_count": 27,
   "metadata": {},
   "outputs": [
    {
     "data": {
      "text/plain": [
       "dict_keys(['type', 'name', 'crs', 'features'])"
      ]
     },
     "execution_count": 27,
     "metadata": {},
     "output_type": "execute_result"
    }
   ],
   "source": [
    "geojson.keys()"
   ]
  },
  {
   "cell_type": "code",
   "execution_count": 39,
   "metadata": {},
   "outputs": [
    {
     "data": {
      "text/plain": [
       "dict_keys(['type', 'properties', 'geometry'])"
      ]
     },
     "execution_count": 39,
     "metadata": {},
     "output_type": "execute_result"
    }
   ],
   "source": [
    "geojson['features'][0].keys()"
   ]
  },
  {
   "cell_type": "code",
   "execution_count": 40,
   "metadata": {},
   "outputs": [
    {
     "data": {
      "text/plain": [
       "dict_keys(['type', 'coordinates'])"
      ]
     },
     "execution_count": 40,
     "metadata": {},
     "output_type": "execute_result"
    }
   ],
   "source": [
    "geojson['features'][0]['geometry'].keys()"
   ]
  },
  {
   "cell_type": "code",
   "execution_count": 41,
   "metadata": {},
   "outputs": [
    {
     "data": {
      "text/plain": [
       "'ATLANTIC'"
      ]
     },
     "execution_count": 41,
     "metadata": {},
     "output_type": "execute_result"
    }
   ],
   "source": [
    "geojson['features'][0]['properties']['COUNTY']"
   ]
  },
  {
   "cell_type": "code",
   "execution_count": 5,
   "metadata": {},
   "outputs": [
    {
     "name": "stdout",
     "output_type": "stream",
     "text": [
      "2021-03-17 09:25:09,229 INFO sqlalchemy.engine.base.Engine SELECT CAST('test plain returns' AS VARCHAR(60)) AS anon_1\n",
      "2021-03-17 09:25:09,232 INFO sqlalchemy.engine.base.Engine ()\n",
      "2021-03-17 09:25:09,233 INFO sqlalchemy.engine.base.Engine SELECT CAST('test unicode returns' AS VARCHAR(60)) AS anon_1\n",
      "2021-03-17 09:25:09,234 INFO sqlalchemy.engine.base.Engine ()\n"
     ]
    }
   ],
   "source": [
    "#  SQLite DB creation and establishing connection\n",
    "database_path = \"Resources/NJ_CPS.sqlite\"\n",
    "engine = create_engine(f\"sqlite:///{database_path}\", echo=True)\n",
    "sqlite_connection = engine.connect()"
   ]
  },
  {
   "cell_type": "code",
   "execution_count": 6,
   "metadata": {},
   "outputs": [],
   "source": [
    "query = '''SELECT T1.*, T2.school_rating, T3.tax_rate, T4.poverty_rate, T5.median_hh_income, T6.population\n",
    "        FROM\n",
    "        (SELECT county_name, total as crime_rate from NJ_crime WHERE report_type = 'Rate Per 100,000') AS T1\n",
    "        INNER JOIN (SELECT county_name, AVG(rating) AS school_rating FROM NJ_school_rating  GROUP BY 1) AS T2 \n",
    "        ON T1.county_name = T2.county_name\n",
    "        INNER JOIN (SELECT county_name, AVG(effective_tax_rate) AS tax_rate FROM NJ_tax GROUP BY 1) AS T3\n",
    "        ON T1.county_name = T3.county_name\n",
    "        INNER JOIN (SELECT county_name, AVG(poverty_rate) AS poverty_rate FROM NJ_poverty GROUP BY 1) AS T4\n",
    "        ON T1.county_name = T4.county_name\n",
    "        INNER JOIN (SELECT county_name, AVG(median_hh_income) AS median_hh_income FROM NJ_poverty GROUP BY 1) AS T5\n",
    "        ON T1.county_name = T5.county_name\n",
    "        INNER JOIN (SELECT county_name, SUM(population) AS population FROM NJ_population GROUP BY 1) AS T6\n",
    "        ON T1.county_name = T6.county_name\n",
    "'''"
   ]
  },
  {
   "cell_type": "code",
   "execution_count": 7,
   "metadata": {},
   "outputs": [
    {
     "name": "stdout",
     "output_type": "stream",
     "text": [
      "2021-03-17 09:25:15,269 INFO sqlalchemy.engine.base.Engine SELECT T1.*, T2.school_rating, T3.tax_rate, T4.poverty_rate, T5.median_hh_income, T6.population\n",
      "        FROM\n",
      "        (SELECT county_name, total as crime_rate from NJ_crime WHERE report_type = 'Rate Per 100,000') AS T1\n",
      "        INNER JOIN (SELECT county_name, AVG(rating) AS school_rating FROM NJ_school_rating  GROUP BY 1) AS T2 \n",
      "        ON T1.county_name = T2.county_name\n",
      "        INNER JOIN (SELECT county_name, AVG(effective_tax_rate) AS tax_rate FROM NJ_tax GROUP BY 1) AS T3\n",
      "        ON T1.county_name = T3.county_name\n",
      "        INNER JOIN (SELECT county_name, AVG(poverty_rate) AS poverty_rate FROM NJ_poverty GROUP BY 1) AS T4\n",
      "        ON T1.county_name = T4.county_name\n",
      "        INNER JOIN (SELECT county_name, AVG(median_hh_income) AS median_hh_income FROM NJ_poverty GROUP BY 1) AS T5\n",
      "        ON T1.county_name = T5.county_name\n",
      "        INNER JOIN (SELECT county_name, SUM(population) AS population FROM NJ_population GROUP BY 1) AS T6\n",
      "        ON T1.county_name = T6.county_name\n",
      "\n",
      "2021-03-17 09:25:15,270 INFO sqlalchemy.engine.base.Engine ()\n"
     ]
    },
    {
     "data": {
      "text/html": [
       "<div>\n",
       "<style scoped>\n",
       "    .dataframe tbody tr th:only-of-type {\n",
       "        vertical-align: middle;\n",
       "    }\n",
       "\n",
       "    .dataframe tbody tr th {\n",
       "        vertical-align: top;\n",
       "    }\n",
       "\n",
       "    .dataframe thead th {\n",
       "        text-align: right;\n",
       "    }\n",
       "</style>\n",
       "<table border=\"1\" class=\"dataframe\">\n",
       "  <thead>\n",
       "    <tr style=\"text-align: right;\">\n",
       "      <th></th>\n",
       "      <th>county_name</th>\n",
       "      <th>crime_rate</th>\n",
       "      <th>school_rating</th>\n",
       "      <th>tax_rate</th>\n",
       "      <th>poverty_rate</th>\n",
       "      <th>median_hh_income</th>\n",
       "      <th>population</th>\n",
       "    </tr>\n",
       "  </thead>\n",
       "  <tbody>\n",
       "    <tr>\n",
       "      <th>0</th>\n",
       "      <td>ATLANTIC</td>\n",
       "      <td>28720.1</td>\n",
       "      <td>48.484375</td>\n",
       "      <td>2.823773</td>\n",
       "      <td>1.6</td>\n",
       "      <td>62678.0</td>\n",
       "      <td>265451</td>\n",
       "    </tr>\n",
       "    <tr>\n",
       "      <th>1</th>\n",
       "      <td>BERGEN</td>\n",
       "      <td>142790.1</td>\n",
       "      <td>53.420918</td>\n",
       "      <td>2.295649</td>\n",
       "      <td>0.8</td>\n",
       "      <td>107971.0</td>\n",
       "      <td>941075</td>\n",
       "    </tr>\n",
       "    <tr>\n",
       "      <th>2</th>\n",
       "      <td>BURLINGTON</td>\n",
       "      <td>26103.9</td>\n",
       "      <td>49.616071</td>\n",
       "      <td>2.744753</td>\n",
       "      <td>1.0</td>\n",
       "      <td>88443.0</td>\n",
       "      <td>442207</td>\n",
       "    </tr>\n",
       "    <tr>\n",
       "      <th>3</th>\n",
       "      <td>CAMDEN</td>\n",
       "      <td>63832.1</td>\n",
       "      <td>48.576190</td>\n",
       "      <td>3.907323</td>\n",
       "      <td>1.4</td>\n",
       "      <td>73168.0</td>\n",
       "      <td>503145</td>\n",
       "    </tr>\n",
       "    <tr>\n",
       "      <th>4</th>\n",
       "      <td>CAPE MAY</td>\n",
       "      <td>54930.6</td>\n",
       "      <td>51.180556</td>\n",
       "      <td>1.277832</td>\n",
       "      <td>2.2</td>\n",
       "      <td>66565.0</td>\n",
       "      <td>91732</td>\n",
       "    </tr>\n",
       "  </tbody>\n",
       "</table>\n",
       "</div>"
      ],
      "text/plain": [
       "  county_name  crime_rate  school_rating  tax_rate  poverty_rate  \\\n",
       "0    ATLANTIC     28720.1      48.484375  2.823773           1.6   \n",
       "1      BERGEN    142790.1      53.420918  2.295649           0.8   \n",
       "2  BURLINGTON     26103.9      49.616071  2.744753           1.0   \n",
       "3      CAMDEN     63832.1      48.576190  3.907323           1.4   \n",
       "4    CAPE MAY     54930.6      51.180556  1.277832           2.2   \n",
       "\n",
       "   median_hh_income  population  \n",
       "0           62678.0      265451  \n",
       "1          107971.0      941075  \n",
       "2           88443.0      442207  \n",
       "3           73168.0      503145  \n",
       "4           66565.0       91732  "
      ]
     },
     "execution_count": 7,
     "metadata": {},
     "output_type": "execute_result"
    }
   ],
   "source": [
    "test = pd.read_sql_query(query, sqlite_connection)\n",
    "test.head()"
   ]
  },
  {
   "cell_type": "code",
   "execution_count": 47,
   "metadata": {},
   "outputs": [],
   "source": [
    "for i in range(len(geojson['features'])):\n",
    "    county = geojson['features'][i]['properties']['COUNTY']\n",
    "    geojson['features'][i]['properties']['crime_rate'] = test['crime_rate'].loc[test['county_name']==county].item()\n",
    "    geojson['features'][i]['properties']['school_rating'] = test['school_rating'].loc[test['county_name']==county].item()\n",
    "    geojson['features'][i]['properties']['tax_rate'] = test['tax_rate'].loc[test['county_name']==county].item()\n",
    "    geojson['features'][i]['properties']['poverty_rate'] = test['poverty_rate'].loc[test['county_name']==county].item()\n",
    "    geojson['features'][i]['properties']['median_hh_income'] = test['median_hh_income'].loc[test['county_name']==county].item()\n",
    "    geojson['features'][i]['properties']['population'] = test['crime_rate'].loc[test['county_name']==county].item()"
   ]
  },
  {
   "cell_type": "code",
   "execution_count": 48,
   "metadata": {},
   "outputs": [
    {
     "data": {
      "text/plain": [
       "{'type': 'Feature',\n",
       " 'properties': {'OBJECTID': 1,\n",
       "  'COUNTY': 'ATLANTIC',\n",
       "  'COUNTY_LABEL': 'Atlantic County',\n",
       "  'CO': 'ATL',\n",
       "  'GNIS_NAME': 'County of Atlantic',\n",
       "  'GNIS': '882270',\n",
       "  'FIPSSTCO': '34001',\n",
       "  'FIPSCO': '1',\n",
       "  'ACRES': 390815.40421524,\n",
       "  'SQ_MILES': 610.64906917,\n",
       "  'POP2010': 274549,\n",
       "  'POP2000': 252552,\n",
       "  'POP1990': 275372,\n",
       "  'POP1980': 204615,\n",
       "  'POPDEN2010': 450,\n",
       "  'POPDEN2000': 414,\n",
       "  'POPDEN1990': 451,\n",
       "  'POPDEN1980': 335,\n",
       "  'REGION': 'COASTAL',\n",
       "  'GLOBALID': '{2B4609FC-DADB-42FC-A1FF-27F91F0D7FFF}',\n",
       "  'Shape_Length': 650228.1539061349,\n",
       "  'Shape_Area': 17023850912.008175,\n",
       "  'crime_rate': 28720.1,\n",
       "  'school_rating': 48.484375,\n",
       "  'tax_rate': 2.8237734329482924,\n",
       "  'poverty_rate': 1.6,\n",
       "  'median_hh_income': 62678.0,\n",
       "  'population': 28720.1},\n",
       " 'geometry': {'type': 'Polygon',\n",
       "  'coordinates': [[[-74.67437393407506, 39.688583867665365],\n",
       "    [-74.67441389713807, 39.688591797371686],\n",
       "    [-74.67443413988926, 39.688600881735056],\n",
       "    [-74.6744476642985, 39.688609290710964],\n",
       "    [-74.67445740447076, 39.68862473308342],\n",
       "    [-74.67446654092083, 39.68866851060147],\n",
       "    [-74.67448405359424, 39.688722213594346],\n",
       "    [-74.67450034220671, 39.688741682419185],\n",
       "    [-74.6745275951826, 39.688768245345855],\n",
       "    [-74.67456208035277, 39.68878840111308],\n",
       "    [-74.67461697154421, 39.688811600473485],\n",
       "    [-74.674685296415, 39.68883538310813],\n",
       "    [-74.67472912405196, 39.6888542069625],\n",
       "    [-74.67475492785643, 39.68887009173017],\n",
       "    [-74.67477958806803, 39.68889712509136],\n",
       "    [-74.67480861830794, 39.688938593718895],\n",
       "    [-74.67482543397186, 39.68898345766967],\n",
       "    [-74.67483585466286, 39.68902920948492],\n",
       "    [-74.67483888426925, 39.68906088817839],\n",
       "    [-74.67483485027094, 39.68909600939391],\n",
       "    [-74.67482193989004, 39.68913372554441],\n",
       "    [-74.67480332657765, 39.689165217034315],\n",
       "    [-74.67477250345426, 39.68920249264861],\n",
       "    [-74.6746594850851, 39.68932406862584],\n",
       "    [-74.67457592327284, 39.68940282592763],\n",
       "    [-74.67455372226911, 39.689434762339474],\n",
       "    [-74.67454312302493, 39.68945926807293],\n",
       "    [-74.6745397451026, 39.68948692100815],\n",
       "    [-74.67453981880158, 39.689516188317604],\n",
       "    [-74.674545346952, 39.689538199031034],\n",
       "    [-74.67455441278729, 39.689567754577645],\n",
       "    [-74.67457452304214, 39.68960882411975],\n",
       "    [-74.67464048883345, 39.68971124286806],\n",
       "    [-74.67467326891064, 39.68974578716408],\n",
       "    [-74.67473190275032, 39.689787211270854],\n",
       "    [-74.67477261409896, 39.689810019341834],\n",
       "    [-74.67481980019105, 39.68982145279142],\n",
       "    [-74.67495576778815, 39.689837171611316],\n",
       "    [-74.67506155543278, 39.68984895532548],\n",
       "    [-74.67511037223363, 39.68985882068165],\n",
       "    [-74.6751666527914, 39.68988284097463],\n",
       "    [-74.67522595258784, 39.68992050226217],\n",
       "    [-74.67526390652569, 39.68994919086393],\n",
       "    [-74.67528846950025, 39.68997995789886],\n",
       "    [-74.67531190826038, 39.690016136576055],\n",
       "    [-74.67532469002397, 39.69003961894633],\n",
       "    [-74.67534448491683, 39.690095899020896],\n",
       "    [-74.6753629502673, 39.69017458564368],\n",
       "    [-74.67535817725523, 39.69026868148799],\n",
       "    [-74.6753743560835, 39.69035695291796],\n",
       "    [-74.67546259161679, 39.69056624666382],\n",
       "    [-74.67559865533605, 39.69077343771212],\n",
       "    [-74.6757133593405, 39.6909375281433],\n",
       "    [-74.67579071530326, 39.69104624328675],\n",
       "    [-74.67586181534695, 39.69112608506279],\n",
       "    [-74.67589431446058, 39.69116472877751],\n",
       "    [-74.67589532136095, 39.6911659261605],\n",
       "    [-74.67615864789119, 39.691415012480604],\n",
       "    [-74.67619459819092, 39.69146547511616],\n",
       "    [-74.67621497456517, 39.69149871997707],\n",
       "    [-74.67622538125188, 39.691524237053876],\n",
       "    [-74.6762298775353, 39.69154550792161],\n",
       "    [-74.67622942708536, 39.691564150680335],\n",
       "    [-74.67622790343982, 39.691579830675096],\n",
       "    [-74.67622054056727, 39.69159129047531],\n",
       "    [-74.6762100788106, 39.69160006441516],\n",
       "    [-74.6761899549966, 39.691610225768805],\n",
       "    [-74.6761430432668, 39.69162519636568],\n",
       "    [-74.72385741189058, 39.72207130932878],\n",
       "    [-74.73621724356295, 39.72978292251358],\n",
       "    [-74.80008889689478, 39.67487179936352],\n",
       "    [-74.85917451149956, 39.62396632447151],\n",
       "    [-74.87726359220129, 39.60836064471552],\n",
       "    [-74.88445204644201, 39.60215634540796],\n",
       "    [-74.91188185575406, 39.57846762993823],\n",
       "    [-74.93779476308583, 39.556068164523786],\n",
       "    [-74.98527301300199, 39.51497495751239],\n",
       "    [-74.97211200088272, 39.50571925632403],\n",
       "    [-74.89680861700188, 39.45268432684288],\n",
       "    [-74.8718203108284, 39.43584701162986],\n",
       "    [-74.8685673264809, 39.43337369134769],\n",
       "    [-74.85597933907326, 39.424245663022695],\n",
       "    [-74.85598101190206, 39.424049390591364],\n",
       "    [-74.85599499889376, 39.42400843812037],\n",
       "    [-74.85601712075183, 39.423965895166944],\n",
       "    [-74.85612400806467, 39.42384281106116],\n",
       "    [-74.85618060240076, 39.42379856992828],\n",
       "    [-74.85624532650922, 39.423759054671216],\n",
       "    [-74.8563262560589, 39.423717896230706],\n",
       "    [-74.85639514792777, 39.42369720287586],\n",
       "    [-74.85646000804847, 39.42368442902567],\n",
       "    [-74.85652083849273, 39.42367952063283],\n",
       "    [-74.85657969731973, 39.42368406220148],\n",
       "    [-74.85685482785846, 39.42372412908309],\n",
       "    [-74.85694208993479, 39.423723861357836],\n",
       "    [-74.85699377770686, 39.42371741518685],\n",
       "    [-74.85702110598601, 39.42370316359058],\n",
       "    [-74.85705038749936, 39.42367633087481],\n",
       "    [-74.85730947613364, 39.42345206847439],\n",
       "    [-74.85735086284629, 39.42341811553689],\n",
       "    [-74.85738216134153, 39.42338419267732],\n",
       "    [-74.85739823423901, 39.42335660504857],\n",
       "    [-74.85740522055495, 39.42333140632303],\n",
       "    [-74.85741012250837, 39.42329992644178],\n",
       "    [-74.85741000582789, 39.42327708260195],\n",
       "    [-74.85740680915131, 39.423247220211046],\n",
       "    [-74.8573471435341, 39.42298774892486],\n",
       "    [-74.85733106441523, 39.422916988504575],\n",
       "    [-74.85724214521461, 39.42268278426911],\n",
       "    [-74.85722980306073, 39.422650561043],\n",
       "    [-74.85722251830575, 39.42261752598093],\n",
       "    [-74.85722242594149, 39.42259943286459],\n",
       "    [-74.85722639344363, 39.4225789653924],\n",
       "    [-74.8572579145166, 39.42249861392152],\n",
       "    [-74.85726073766568, 39.422455333685335],\n",
       "    [-74.8572565491036, 39.42242544640746],\n",
       "    [-74.85724415891475, 39.422383806401186],\n",
       "    [-74.85722472494784, 39.422356326927385],\n",
       "    [-74.85720640582664, 39.4223390581597],\n",
       "    [-74.85717791595134, 39.422326543494805],\n",
       "    [-74.85705854318779, 39.42229151856115],\n",
       "    [-74.85701178669116, 39.42227200308085],\n",
       "    [-74.85696497682234, 39.422242247489294],\n",
       "    [-74.85694762567842, 39.422227336698],\n",
       "    [-74.85691910659804, 39.42220224693785],\n",
       "    [-74.85690274501135, 39.42218027716348],\n",
       "    [-74.85688633906136, 39.42214254718459],\n",
       "    [-74.85686592104003, 39.42201908357757],\n",
       "    [-74.85686887687636, 39.422001777412056],\n",
       "    [-74.85688807787966, 39.42198362510421],\n",
       "    [-74.8569340344996, 39.421950426666776],\n",
       "    [-74.85695580884236, 39.42193698842795],\n",
       "    [-74.8569739511775, 39.421919634757785],\n",
       "    [-74.85698096159959, 39.421899158854536],\n",
       "    [-74.85697473303509, 39.4218716388118],\n",
       "    [-74.85695432068792, 39.4218465241813],\n",
       "    [-74.85689726687299, 39.42180027037348],\n",
       "    [-74.85687484925899, 39.42177752286899],\n",
       "    [-74.85685238361648, 39.42175241451925],\n",
       "    [-74.85665236708407, 39.42141784055406],\n",
       "    [-74.85662574545377, 39.42136913231459],\n",
       "    [-74.85660924890136, 39.42132039303034],\n",
       "    [-74.85659886726859, 39.42127007031457],\n",
       "    [-74.85659856268671, 39.42121029887684],\n",
       "    [-74.85660434714205, 39.4211504808481],\n",
       "    [-74.85663430154428, 39.42105440191244],\n",
       "    [-74.85666432397193, 39.42097875012892],\n",
       "    [-74.85673853822992, 39.42078971644633],\n",
       "    [-74.85674843955272, 39.42076449709953],\n",
       "    [-74.85675729873145, 39.42071095809252],\n",
       "    [-74.85675105022473, 39.42047809243274],\n",
       "    [-74.85674472051004, 39.420430914589666],\n",
       "    [-74.85674848630411, 39.42037110273659],\n",
       "    [-74.85678229133703, 39.4202387963016],\n",
       "    [-74.8567799452266, 39.42017430913763],\n",
       "    [-74.85676952866385, 39.42012395860955],\n",
       "    [-74.85674594738353, 39.420067387913704],\n",
       "    [-74.85672040633128, 39.420036001398536],\n",
       "    [-74.8566827391008, 39.42000778232808],\n",
       "    [-74.85653899533476, 39.41987132525301],\n",
       "    [-74.85642289962507, 39.41978357405926],\n",
       "    [-74.85613177914081, 39.419589333198466],\n",
       "    [-74.85575826883804, 39.41934971101178],\n",
       "    [-74.85572566474087, 39.41932147614298],\n",
       "    [-74.85568673973353, 39.41924762801109],\n",
       "    [-74.85565584128484, 39.41915804992789],\n",
       "    [-74.8556494762975, 39.41909667645889],\n",
       "    [-74.85565439480382, 39.419068353871424],\n",
       "    [-74.85566637169268, 39.419028973136946],\n",
       "    [-74.85576263272269, 39.418808368124786],\n",
       "    [-74.8557784532877, 39.41873122231109],\n",
       "    [-74.85578432503014, 39.41868870203876],\n",
       "    [-74.855778045312, 39.418650968833276],\n",
       "    [-74.85574113398098, 39.41856926230274],\n",
       "    [-74.85566660864711, 39.41847663239547],\n",
       "    [-74.85564006199006, 39.41844209141307],\n",
       "    [-74.85561554749974, 39.418410701506566],\n",
       "    [-74.8555503484131, 39.41835582334998],\n",
       "    [-74.85527339947717, 39.41815524940165],\n",
       "    [-74.85495497455345, 39.4179705337705],\n",
       "    [-74.85492639913913, 39.41794072079124],\n",
       "    [-74.8549059407875, 39.417906161061794],\n",
       "    [-74.85487294563126, 39.41780082969441],\n",
       "    [-74.85475214748259, 39.41737790352405],\n",
       "    [-74.85472747531348, 39.41731502112515],\n",
       "    [-74.8547089628071, 39.417266314705195],\n",
       "    [-74.85468021233721, 39.41720188004486],\n",
       "    [-74.85444957516158, 39.41672261827049],\n",
       "    [-74.85442304460142, 39.41669123424441],\n",
       "    [-74.85439855634492, 39.41666456597113],\n",
       "    [-74.85436397557955, 39.41664421690369],\n",
       "    [-74.85419422355655, 39.41657705334211],\n",
       "    [-74.85399095773434, 39.41649741728267],\n",
       "    [-74.85395433993146, 39.41648023158665],\n",
       "    [-74.85391769137338, 39.41645673048068],\n",
       "    [-74.85384132063314, 39.416397162448156],\n",
       "    [-74.85378834101232, 39.41635012628998],\n",
       "    [-74.85376385181907, 39.416323430859876],\n",
       "    [-74.85374950728267, 39.41629360222968],\n",
       "    [-74.8537493561646, 39.416263702513874],\n",
       "    [-74.85375521428524, 39.4162180520941],\n",
       "    [-74.8537732156541, 39.4161660501548],\n",
       "    [-74.85377913731227, 39.416132974674944],\n",
       "    [-74.8537668417769, 39.416109426481434],\n",
       "    [-74.85374846528595, 39.41608743534017],\n",
       "    [-74.85320407428964, 39.41574761417615],\n",
       "    [-74.85316737885238, 39.41571469603293],\n",
       "    [-74.8531406983956, 39.41565341198374],\n",
       "    [-74.85311171983062, 39.415543344995235],\n",
       "    [-74.85311157688714, 39.41551501083597],\n",
       "    [-74.85311538530861, 39.41546307909522],\n",
       "    [-74.85316706961542, 39.41525362184048],\n",
       "    [-74.85317799323, 39.41520166849484],\n",
       "    [-74.85317151542482, 39.415124563654416],\n",
       "    [-74.85311974463158, 39.41491701304683],\n",
       "    [-74.85311742579563, 39.414857220620405],\n",
       "    [-74.85312928130004, 39.41480054156403],\n",
       "    [-74.85322727891987, 39.41451697735082],\n",
       "    [-74.85324922970821, 39.41444769248744],\n",
       "    [-74.85330242394112, 39.41433421868005],\n",
       "    [-74.8533987168195, 39.41411993174321],\n",
       "    [-74.85340865316894, 39.41407583362124],\n",
       "    [-74.85340628217494, 39.41401288315301],\n",
       "    [-74.8533999643918, 39.41396726972119],\n",
       "    [-74.85339060980091, 39.4139232581245],\n",
       "    [-74.85338133450914, 39.41389495169887],\n",
       "    [-74.8533607907938, 39.41384309390604],\n",
       "    [-74.85332404367719, 39.41379285090897],\n",
       "    [-74.85320995034098, 39.413692459324736],\n",
       "    [-74.85317724373911, 39.41365008419329],\n",
       "    [-74.85314961312838, 39.413596655264364],\n",
       "    [-74.85311244926977, 39.41347088064491],\n",
       "    [-74.85308307802666, 39.4132758650347],\n",
       "    [-74.85308546281314, 39.41307501404824],\n",
       "    [-74.85307160175087, 39.41301467922103],\n",
       "    [-74.8530573901916, 39.41296197881867],\n",
       "    [-74.85303104290581, 39.41291725037258],\n",
       "    [-74.85268211094997, 39.41247436654003],\n",
       "    [-74.85263208498866, 39.41238058925267],\n",
       "    [-74.85261528969154, 39.41232089561753],\n",
       "    [-74.85261615173748, 39.412316361989475],\n",
       "    [-74.85262185504992, 39.41226110324939],\n",
       "    [-74.85263135389053, 39.41223545755644],\n",
       "    [-74.85266005625604, 39.4121927033412],\n",
       "    [-74.85267278704062, 39.41178285016386],\n",
       "    [-74.8527548288993, 39.41148011423872],\n",
       "    [-74.85290981044899, 39.41128086051719],\n",
       "    [-74.85308721969143, 39.41110745628948],\n",
       "    [-74.8531640588101, 39.41088249275877],\n",
       "    [-74.85316266360012, 39.41060592843825],\n",
       "    [-74.8530652475383, 39.410070357979954],\n",
       "    [-74.8530746526743, 39.40972459842279],\n",
       "    [-74.85305077744812, 39.40940488645041],\n",
       "    [-74.85305003655594, 39.40925796933055],\n",
       "    [-74.85311603042555, 39.40909355253241],\n",
       "    [-74.85318232162305, 39.4089809991796],\n",
       "    [-74.8532262716919, 39.40885983802809],\n",
       "    [-74.85323585045963, 39.408548673039206],\n",
       "    [-74.85323397537131, 39.40817702894326],\n",
       "    [-74.85324460061173, 39.40807329401144],\n",
       "    [-74.8533549696566, 39.40786552557161],\n",
       "    [-74.85344876432231, 39.407683726064334],\n",
       "    [-74.85352590415542, 39.40751927513011],\n",
       "    [-74.85356950374336, 39.407329007388],\n",
       "    [-74.85362438114028, 39.40716462403507],\n",
       "    [-74.85367960867087, 39.40706937411307],\n",
       "    [-74.85381262202627, 39.40693069881737],\n",
       "    [-74.8539785279166, 39.40669681512315],\n",
       "    [-74.85408876156407, 39.40646312766312],\n",
       "    [-74.85426532487723, 39.406125507503475],\n",
       "    [-74.85451963588372, 39.405744461349855],\n",
       "    [-74.85483008722936, 39.40544964897839],\n",
       "    [-74.8551293879845, 39.40515486980477],\n",
       "    [-74.85533974785342, 39.40489492880779],\n",
       "    [-74.85569469698429, 39.40458270805445],\n",
       "    [-74.8560384591202, 39.40427052044179],\n",
       "    [-74.8567265395181, 39.403749816145364],\n",
       "    [-74.85690424763, 39.4035226182588],\n",
       "    [-74.85710892310506, 39.403260906961016],\n",
       "    [-74.8571593228669, 39.403178136318786],\n",
       "    [-74.85729162017604, 39.403020019916816],\n",
       "    [-74.85735395026975, 39.40290341364633],\n",
       "    [-74.8574017880821, 39.40279061269937],\n",
       "    [-74.85744949620877, 39.40265903225803],\n",
       "    [-74.85747990267494, 39.40245241159334],\n",
       "    [-74.85751305857276, 39.40230585679782],\n",
       "    [-74.85756438655694, 39.40193393900991],\n",
       "    [-74.85774234272104, 39.40170808481585],\n",
       "    [-74.85788154601356, 39.40148234955467],\n",
       "    [-74.85804688115866, 39.401162659546884],\n",
       "    [-74.8580798239949, 39.400974783722724],\n",
       "    [-74.85806960607052, 39.4008659228739],\n",
       "    [-74.85808353859765, 39.40075322595454],\n",
       "    [-74.85803607399995, 39.4004679895945],\n",
       "    [-74.85801977896254, 39.40011879417045],\n",
       "    [-74.85806730784496, 39.39994591949512],\n",
       "    [-74.85810027294707, 39.399769327881096],\n",
       "    [-74.85810196575781, 39.39962286968969],\n",
       "    [-74.85800922302474, 39.39947294128019],\n",
       "    [-74.85785789135475, 39.3992217962452],\n",
       "    [-74.85777758778124, 39.399026608307004],\n",
       "    [-74.85774061638935, 39.398938586797854],\n",
       "    [-74.85767609061372, 39.39881133185815],\n",
       "    [-74.85763107990137, 39.398735938121376],\n",
       "    [-74.85760440739003, 39.39868250716487],\n",
       "    [-74.85755279239716, 39.39849854312074],\n",
       "    [-74.85753445175877, 39.39848289402982],\n",
       "    [-74.85743491401377, 39.398450142297285],\n",
       "    [-74.85740635356656, 39.39842189536191],\n",
       "    [-74.85739202601454, 39.39839519641411],\n",
       "    [-74.85732120533771, 39.39822702372893],\n",
       "    [-74.85731499086572, 39.398201865444776],\n",
       "    [-74.85733287284823, 39.398127870130594],\n",
       "    [-74.85733264801429, 39.39808380276665],\n",
       "    [-74.85728962271949, 39.39780069443308],\n",
       "    [-74.85729759809213, 39.397775492569885],\n",
       "    [-74.85730763816389, 39.39775970133285],\n",
       "    [-74.85738011615356, 39.39764935137208],\n",
       "    [-74.8573941463824, 39.39761781539123],\n",
       "    [-74.85738785848552, 39.39757848954452],\n",
       "    [-74.85733634548308, 39.39742129504249],\n",
       "    [-74.85734024612434, 39.397388225486864],\n",
       "    [-74.8573613245703, 39.3973441206113],\n",
       "    [-74.85739760813584, 39.39730466399766],\n",
       "    [-74.85749467772558, 39.39724928813463],\n",
       "    [-74.85752699903044, 39.397224011444855],\n",
       "    [-74.85755314607204, 39.39718145564857],\n",
       "    [-74.857563141677, 39.39714993204396],\n",
       "    [-74.8575680245363, 39.39711529477024],\n",
       "    [-74.85756430680588, 39.39698313083462],\n",
       "    [-74.85756815923726, 39.396940643547616],\n",
       "    [-74.85758018756486, 39.39691227189985],\n",
       "    [-74.85760233738891, 39.39688386914228],\n",
       "    [-74.85787511353766, 39.396684766931244],\n",
       "    [-74.85791340882834, 39.39663742376191],\n",
       "    [-74.85794190826364, 39.396598403486855],\n",
       "    [-74.85794563330334, 39.39659328448756],\n",
       "    [-74.8579968140783, 39.396484537309234],\n",
       "    [-74.85800961850369, 39.3964556407629],\n",
       "    [-74.85805457218457, 39.39635429838204],\n",
       "    [-74.85806240910776, 39.39633661947286],\n",
       "    [-74.8580660149011, 39.39629432569552],\n",
       "    [-74.85805747810271, 39.39623732498178],\n",
       "    [-74.85805860121067, 39.39621469701668],\n",
       "    [-74.85806484457613, 39.39619007693727],\n",
       "    [-74.85810819534137, 39.396121109736],\n",
       "    [-74.85811252812206, 39.39610338756004],\n",
       "    [-74.85811485286017, 39.395935209027],\n",
       "    [-74.85812100112922, 39.395898810366404],\n",
       "    [-74.8581322298807, 39.39585945855618],\n",
       "    [-74.85817733029832, 39.39575899394737],\n",
       "    [-74.85818977752888, 39.395715683864545],\n",
       "    [-74.85821136132753, 39.395597609818026],\n",
       "    [-74.85821621080206, 39.39555630038025],\n",
       "    [-74.85821352238885, 39.395521878251394],\n",
       "    [-74.85820829502045, 39.39549633232241],\n",
       "    [-74.85819414166087, 39.395455053463046],\n",
       "    [-74.85816408522635, 39.395404022845646],\n",
       "    [-74.85813988731286, 39.395377546230186],\n",
       "    [-74.85811191662233, 39.395360911660624],\n",
       "    [-74.85803191430567, 39.39532771564341],\n",
       "    [-74.85800518356943, 39.39531107723238],\n",
       "    [-74.85797973613333, 39.39528952009768],\n",
       "    [-74.85797201271846, 39.39526691934799],\n",
       "    [-74.85795236184711, 39.39514013083923],\n",
       "    [-74.8579495735097, 39.395092941959085],\n",
       "    [-74.8579459845767, 39.39488249890205],\n",
       "    [-74.85794205836056, 39.39486186372458],\n",
       "    [-74.85793183655238, 39.39484220906894],\n",
       "    [-74.8579012084391, 39.394803946286096],\n",
       "    [-74.8578577224222, 39.39472838304495],\n",
       "    [-74.85785254624146, 39.39470577445045],\n",
       "    [-74.85785352833062, 39.39464871740444],\n",
       "    [-74.85785085061146, 39.394623163613375],\n",
       "    [-74.85783023291059, 39.394556342557685],\n",
       "    [-74.85783076868917, 39.39453668273183],\n",
       "    [-74.85783572379599, 39.3945160202349],\n",
       "    [-74.85788221798597, 39.39443916322514],\n",
       "    [-74.85788468588868, 39.39442342314602],\n",
       "    [-74.857884550239, 39.394396873356875],\n",
       "    [-74.85787675551822, 39.39436051758634],\n",
       "    [-74.85777375886107, 39.39416905111977],\n",
       "    [-74.85775460203004, 39.3941386332258],\n",
       "    [-74.85767070354612, 39.39397280688671],\n",
       "    [-74.85763727434433, 39.39380852787483],\n",
       "    [-74.85759741498111, 39.393667030052235],\n",
       "    [-74.8575642571503, 39.393555850597394],\n",
       "    [-74.85753423479649, 39.39341434953953],\n",
       "    [-74.85747463670609, 39.393232442026424],\n",
       "    [-74.857408722049, 39.39308849742569],\n",
       "    [-74.85733307055096, 39.39295724074525],\n",
       "    [-74.85724115479033, 39.39282853277302],\n",
       "    [-74.85698094528512, 39.39229708761062],\n",
       "    [-74.8569655700174, 39.39226566979436],\n",
       "    [-74.85695021850324, 39.39223913874992],\n",
       "    [-74.85686108393496, 39.39215583492325],\n",
       "    [-74.85682284021408, 39.39211564585966],\n",
       "    [-74.85678838301301, 39.392068526117185],\n",
       "    [-74.85677177810123, 39.392039089303374],\n",
       "    [-74.85671084254622, 39.39189963211219],\n",
       "    [-74.8566980645665, 39.39187803583956],\n",
       "    [-74.85667002660509, 39.39184761795569],\n",
       "    [-74.85664011806809, 39.391825112131954],\n",
       "    [-74.85649208355638, 39.39175179105934],\n",
       "    [-74.85646349840819, 39.391732219549],\n",
       "    [-74.85642590742923, 39.39169496586478],\n",
       "    [-74.85638255108111, 39.39158189586298],\n",
       "    [-74.85637214238066, 39.391455490358794],\n",
       "    [-74.85635667352118, 39.391301288104714],\n",
       "    [-74.85635292953815, 39.391205201173015],\n",
       "    [-74.85634598066017, 39.391119229245845],\n",
       "    [-74.85637131286406, 39.3909724786602],\n",
       "    [-74.8563676486837, 39.39089915383218],\n",
       "    [-74.85634758934515, 39.39079553932108],\n",
       "    [-74.85628198806164, 39.39071229987182],\n",
       "    [-74.85621964192134, 39.390629023394396],\n",
       "    [-74.85614878095608, 39.39053437780606],\n",
       "    [-74.85613727302864, 39.390511789399284],\n",
       "    [-74.85577350941662, 39.39013331616606],\n",
       "    [-74.8555261324038, 39.38983902463348],\n",
       "    [-74.85548269074664, 39.389771312584564],\n",
       "    [-74.85538803189115, 39.38959557788747],\n",
       "    [-74.85525461228698, 39.38927735283043],\n",
       "    [-74.85523412341188, 39.389235132651265],\n",
       "    [-74.85519702712111, 39.389169350449926],\n",
       "    [-74.85515996467288, 39.38911045926633],\n",
       "    [-74.8551382760187, 39.38908298705498],\n",
       "    [-74.85510899635018, 39.38905161141206],\n",
       "    [-74.85509114928128, 39.38903494429527],\n",
       "    [-74.85505297800158, 39.38900851054775],\n",
       "    [-74.85488270620236, 39.38891658431557],\n",
       "    [-74.85484709802542, 39.388893080196965],\n",
       "    [-74.85481403192499, 39.38886860715999],\n",
       "    [-74.85478854291159, 39.38883818103113],\n",
       "    [-74.85477821969117, 39.38880479726373],\n",
       "    [-74.85477675571087, 39.388767406740286],\n",
       "    [-74.85478271087989, 39.3886926517543],\n",
       "    [-74.8547775075622, 39.388664168050326],\n",
       "    [-74.85476782422687, 39.3886317434855],\n",
       "    [-74.85475501371154, 39.388603255049574],\n",
       "    [-74.8547243900162, 39.38855810023485],\n",
       "    [-74.85466444736088, 39.388487472727775],\n",
       "    [-74.85438990449857, 39.38820707257773],\n",
       "    [-74.8542409008005, 39.38805901379459],\n",
       "    [-74.8542172822346, 39.38802762068528],\n",
       "    [-74.8542019290056, 39.388000129006286],\n",
       "    [-74.85417124255098, 39.387942206263965],\n",
       "    [-74.8541482911952, 39.38791671406452],\n",
       "    [-74.85410629055791, 39.38788142325942],\n",
       "    [-74.85407822946776, 39.38784611704469],\n",
       "    [-74.85407309587833, 39.38783136131509],\n",
       "    [-74.85407549859866, 39.38780971854074],\n",
       "    [-74.85413103812908, 39.38763942855082],\n",
       "    [-74.85413597400341, 39.38760794851286],\n",
       "    [-74.85412411315626, 39.3875224300357],\n",
       "    [-74.85411509742141, 39.3874959072344],\n",
       "    [-74.8540959340328, 39.38746351235831],\n",
       "    [-74.85390561711624, 39.387296907916195],\n",
       "    [-74.853883915702, 39.387266470059174],\n",
       "    [-74.85387239803708, 39.38724193120687],\n",
       "    [-74.85385826890459, 39.38720460620286],\n",
       "    [-74.85385041364212, 39.387155455304175],\n",
       "    [-74.85385015046094, 39.38710334380071],\n",
       "    [-74.85386663420637, 39.38697641749111],\n",
       "    [-74.85388886000388, 39.38685834120913],\n",
       "    [-74.85389374511226, 39.38682392381567],\n",
       "    [-74.85388997125516, 39.38658099975231],\n",
       "    [-74.85388599107482, 39.38654268272352],\n",
       "    [-74.85387825013717, 39.38651615602194],\n",
       "    [-74.85386414097697, 39.38648275664912],\n",
       "    [-74.85384497682385, 39.38645036172778],\n",
       "    [-74.85381569867795, 39.38642584985112],\n",
       "    [-74.85371907151159, 39.38636321268833],\n",
       "    [-74.85358181774178, 39.38628494027183],\n",
       "    [-74.85344823065155, 39.386189961985345],\n",
       "    [-74.85337439094309, 39.38612036417331],\n",
       "    [-74.85326748579341, 39.38603315783452],\n",
       "    [-74.85324328800431, 39.38600569196994],\n",
       "    [-74.8532152242852, 39.385969397361805],\n",
       "    [-74.85319472142183, 39.38593110253523],\n",
       "    [-74.8530826025928, 39.38567969467903],\n",
       "    [-74.8530595990321, 39.38564338467597],\n",
       "    [-74.85304049980404, 39.38562375559084],\n",
       "    [-74.85300299204125, 39.38560223391594],\n",
       "    [-74.85290955696011, 39.38554057546615],\n",
       "    [-74.85286944800505, 39.38550824390118],\n",
       "    [-74.8528465141368, 39.385478824781686],\n",
       "    [-74.85227880422823, 39.38423157595999],\n",
       "    [-74.85202790257799, 39.383855686298986],\n",
       "    [-74.85200100007488, 39.38379676330929],\n",
       "    [-74.85199065929466, 39.38375253545301],\n",
       "    [-74.85198719863588, 39.383697468142856],\n",
       "    [-74.85198152635834, 39.38357555084609],\n",
       "    [-74.85198564750479, 39.383388668655854],\n",
       "    [-74.85198285276013, 39.38333953021298],\n",
       "    [-74.85197251701983, 39.3832962896161],\n",
       "    [-74.85189929316837, 39.38310178995637],\n",
       "    [-74.85189028381794, 39.383076255121814],\n",
       "    [-74.85188635532377, 39.38304773947856],\n",
       "    [-74.85188613803852, 39.38300446917241],\n",
       "    [-74.85191897239298, 39.382729996142295],\n",
       "    [-74.85193760518757, 39.38240342667271],\n",
       "    [-74.85193978762436, 39.38233066041999],\n",
       "    [-74.85193331627828, 39.38230314154725],\n",
       "    [-74.85191347217052, 39.38226877107565],\n",
       "    [-74.85188296187397, 39.38224527762282],\n",
       "    [-74.85187145035644, 39.38222859173031],\n",
       "    [-74.85186758616491, 39.382212870892495],\n",
       "    [-74.85186369233617, 39.382191247182504],\n",
       "    [-74.85186231402572, 39.38217057612159],\n",
       "    [-74.85189618634318, 39.382102628815815],\n",
       "    [-74.85190241072524, 39.382080974506785],\n",
       "    [-74.85190605279581, 39.38205246298777],\n",
       "    [-74.85191891177482, 39.3819570128504],\n",
       "    [-74.85192246986874, 39.38191178178033],\n",
       "    [-74.85193171998472, 39.38185862534511],\n",
       "    [-74.85197393337789, 39.38168346173299],\n",
       "    [-74.85197506804825, 39.381662783971],\n",
       "    [-74.8519724574736, 39.38164313274274],\n",
       "    [-74.85196215027565, 39.38161268705164],\n",
       "    [-74.85186700629396, 39.38134351668679],\n",
       "    [-74.85185993380664, 39.38131599872214],\n",
       "    [-74.85186108339452, 39.38129828635845],\n",
       "    [-74.85186857124837, 39.38127467798911],\n",
       "    [-74.85190246271006, 39.38121062928954],\n",
       "    [-74.85191751723818, 39.381179118708495],\n",
       "    [-74.85191865723321, 39.38115256499059],\n",
       "    [-74.8519047923463, 39.381040501977054],\n",
       "    [-74.85190472327098, 39.381026746021725],\n",
       "    [-74.85190844912013, 39.38101492882824],\n",
       "    [-74.8519185389106, 39.38100210330601],\n",
       "    [-74.85198671943053, 39.380953711322704],\n",
       "    [-74.85200310267842, 39.38093301445465],\n",
       "    [-74.85201175970862, 39.38089561934924],\n",
       "    [-74.85202837394732, 39.38079428188209],\n",
       "    [-74.852029099227, 39.38079031705485],\n",
       "    [-74.85204438634374, 39.380706702396665],\n",
       "    [-74.852055704967, 39.38068503266205],\n",
       "    [-74.85207207684041, 39.38066925059992],\n",
       "    [-74.85219448924893, 39.380563638419666],\n",
       "    [-74.85220959903576, 39.380542945375794],\n",
       "    [-74.85222649321098, 39.380504538038885],\n",
       "    [-74.8522370965949, 39.38046713702254],\n",
       "    [-74.85224002813936, 39.38042385716638],\n",
       "    [-74.85223150790547, 39.380368805147874],\n",
       "    [-74.8521961013031, 39.38025779554139],\n",
       "    [-74.8521768259512, 39.380202776069694],\n",
       "    [-74.85215633168535, 39.38015857802927],\n",
       "    [-74.8521320263154, 39.38011636878113],\n",
       "    [-74.8520854312798, 39.38004569943527],\n",
       "    [-74.85206242894486, 39.38000938919274],\n",
       "    [-74.85203949723108, 39.37997996987674],\n",
       "    [-74.85200634242523, 39.37993679919233],\n",
       "    [-74.85189606211578, 39.37980926732629],\n",
       "    [-74.85188900444929, 39.37979160680162],\n",
       "    [-74.85188060794854, 39.37976112739011],\n",
       "    [-74.85187411255286, 39.37972182967023],\n",
       "    [-74.85185999963387, 39.379567456640906],\n",
       "    [-74.85182934396744, 39.379387599453004],\n",
       "    [-74.85182467827963, 39.37934629100717],\n",
       "    [-74.85181982157829, 39.379259762808765],\n",
       "    [-74.85179569904035, 39.37900020708454],\n",
       "    [-74.85179931669492, 39.378839904481694],\n",
       "    [-74.85180165217177, 39.378797614607635],\n",
       "    [-74.85180780711079, 39.37876217730801],\n",
       "    [-74.85186476189075, 39.37849353413361],\n",
       "    [-74.8519057755326, 39.37821362864071],\n",
       "    [-74.85190885312771, 39.3781924774742],\n",
       "    [-74.85191761873361, 39.378169826382795],\n",
       "    [-74.85192891210025, 39.37815013399178],\n",
       "    [-74.85196608345724, 39.378105761482864],\n",
       "    [-74.85200764860133, 39.37805549972872],\n",
       "    [-74.85206675917938, 39.377969739155695],\n",
       "    [-74.85207807253181, 39.37794710826788],\n",
       "    [-74.85208174384572, 39.37792447257684],\n",
       "    [-74.85208031238814, 39.37789298481466],\n",
       "    [-74.8520636942852, 39.377859619785596],\n",
       "    [-74.85204582116215, 39.377837050178],\n",
       "    [-74.85201908399185, 39.37781058078025],\n",
       "    [-74.85196818551726, 39.37777040036337],\n",
       "    [-74.85194396506031, 39.37774491151712],\n",
       "    [-74.85192869435376, 39.37772628764697],\n",
       "    [-74.85192227280105, 39.37770859726895],\n",
       "    [-74.85191959677701, 39.37768304325771],\n",
       "    [-74.85193187187629, 39.37760530461384],\n",
       "    [-74.85194740966003, 39.37754328773445],\n",
       "    [-74.85196975418722, 39.377455716083475],\n",
       "    [-74.8519997676781, 39.37737399717103],\n",
       "    [-74.85201979671805, 39.377325750791435],\n",
       "    [-74.85203487124976, 39.377298165817436],\n",
       "    [-74.85210540307364, 39.37721140950389],\n",
       "    [-74.85211418339308, 39.37719172379535],\n",
       "    [-74.85211658141421, 39.3771690928541],\n",
       "    [-74.85211140461996, 39.37714549575151],\n",
       "    [-74.85210057584703, 39.377130784163285],\n",
       "    [-74.85209166099841, 39.377123919989636],\n",
       "    [-74.85200970781926, 39.37707795850416],\n",
       "    [-74.85199439249234, 39.37705735751113],\n",
       "    [-74.85198795623373, 39.37703672965818],\n",
       "    [-74.85198532943554, 39.37702097714196],\n",
       "    [-74.85198652979736, 39.37700622915564],\n",
       "    [-74.85199654358716, 39.376985551542475],\n",
       "    [-74.85207599976063, 39.37690760963513],\n",
       "    [-74.85209236115988, 39.376882986204166],\n",
       "    [-74.85209732157982, 39.376863285029835],\n",
       "    [-74.8520984713769, 39.376838707624465],\n",
       "    [-74.85208943428457, 39.37680726989372],\n",
       "    [-74.85207662092897, 39.3767777929271],\n",
       "    [-74.85197381312591, 39.37662272700065],\n",
       "    [-74.85197253147494, 39.37661389038893],\n",
       "    [-74.85196988994589, 39.37659520039461],\n",
       "    [-74.85197233389935, 39.37657454567856],\n",
       "    [-74.85197860597533, 39.37656271987162],\n",
       "    [-74.85198869504919, 39.37655681431145],\n",
       "    [-74.85201524887955, 39.376546876490224],\n",
       "    [-74.852093721711, 39.376526980833475],\n",
       "    [-74.85214432276881, 39.376508129730105],\n",
       "    [-74.85218730825034, 39.37648735231472],\n",
       "    [-74.85222013535349, 39.376465616549375],\n",
       "    [-74.85224533579793, 39.37643997815852],\n",
       "    [-74.85228812842728, 39.376380845063075],\n",
       "    [-74.85229059311254, 39.37637842164549],\n",
       "    [-74.85227082864046, 39.37634550575472],\n",
       "    [-74.85226437746412, 39.37632191251352],\n",
       "    [-74.85226682995805, 39.37630320710412],\n",
       "    [-74.85230671411983, 39.37617231125891],\n",
       "    [-74.85230856796198, 39.37616104830048],\n",
       "    [-74.85231042125119, 39.37614967544557],\n",
       "    [-74.85230653609136, 39.37613689219043],\n",
       "    [-74.85229099843686, 39.37607203270988],\n",
       "    [-74.85221184309755, 39.37587145431211],\n",
       "    [-74.85221459311704, 39.37586968942073],\n",
       "    [-74.85225811031516, 39.37582823511696],\n",
       "    [-74.85228514302362, 39.37578685862816],\n",
       "    [-74.85230705216054, 39.375732702626216],\n",
       "    [-74.85232511076994, 39.375672655310105],\n",
       "    [-74.85236090805817, 39.37548177916447],\n",
       "    [-74.85237336021301, 39.37543943069598],\n",
       "    [-74.85239465186795, 39.375389231073854],\n",
       "    [-74.85261548571884, 39.37501180263347],\n",
       "    [-74.85279833613579, 39.37465829446682],\n",
       "    [-74.85296065150449, 39.374421098855635],\n",
       "    [-74.85318206849009, 39.374132737230894],\n",
       "    [-74.85375317284289, 39.373570367177166],\n",
       "    [-74.85390569092785, 39.3734047797027],\n",
       "    [-74.85397439325556, 39.37329320701095],\n",
       "    [-74.85398882346333, 39.37320867938505],\n",
       "    [-74.85398356089966, 39.37314724702959],\n",
       "    [-74.85395856293714, 39.37309356306953],\n",
       "    [-74.85387385905582, 39.372978613219985],\n",
       "    [-74.85379927436563, 39.37290588747005],\n",
       "    [-74.85372970012874, 39.372844651513645],\n",
       "    [-74.85358621580757, 39.37276010930529],\n",
       "    [-74.853521691559, 39.37269009935701],\n",
       "    [-74.85347463119453, 39.372617811338635],\n",
       "    [-74.85342603629977, 39.37252175122887],\n",
       "    [-74.85340407326622, 39.372438460195056],\n",
       "    [-74.85340380584523, 39.37238541443703],\n",
       "    [-74.85341294442419, 39.37233154470225],\n",
       "    [-74.85344046604204, 39.37226139204245],\n",
       "    [-74.85345477396413, 39.3722296357644],\n",
       "    [-74.85349357023232, 39.37214327670255],\n",
       "    [-74.85351270468067, 39.37210063394607],\n",
       "    [-74.85355342350975, 39.37204480088868],\n",
       "    [-74.85371783823716, 39.37182582913151],\n",
       "    [-74.85381787321508, 39.37170556758449],\n",
       "    [-74.8539230288497, 39.37159091860233],\n",
       "    [-74.85402899656104, 39.37148983046682],\n",
       "    [-74.85405364420434, 39.37146713087151],\n",
       "    [-74.85406820884637, 39.3714580262652],\n",
       "    [-74.85410458091388, 39.37144547728297],\n",
       "    [-74.85415703682638, 39.37143738336344],\n",
       "    [-74.85423138800219, 39.37142922187128],\n",
       "    [-74.85435966308408, 39.371416393015714],\n",
       "    [-74.85438298733034, 39.37141179184146],\n",
       "    [-74.8544136578898, 39.37139797017346],\n",
       "    [-74.85444415341672, 39.37137042076915],\n",
       "    [-74.85448164762279, 39.37132091184339],\n",
       "    [-74.8545190790532, 39.3712658847677],\n",
       "    [-74.85453697168073, 39.37122272405502],\n",
       "    [-74.85454860667667, 39.37116607303873],\n",
       "    [-74.85455201465606, 39.37114047259876],\n",
       "    [-74.85456250645466, 39.37111663596985],\n",
       "    [-74.85457891022993, 39.37109371455966],\n",
       "    [-74.85466201295087, 39.37097635941803],\n",
       "    [-74.85476968497298, 39.3708278479513],\n",
       "    [-74.85498310702802, 39.37049417592966],\n",
       "    [-74.85517943411067, 39.37022186715022],\n",
       "    [-74.85520882670437, 39.37017240973344],\n",
       "    [-74.85524891809025, 39.370126077869884],\n",
       "    [-74.85533118593185, 39.37006770137016],\n",
       "    [-74.85541160262629, 39.370021246310756],\n",
       "    [-74.85543263044374, 39.370003308318736],\n",
       "    [-74.85543829023575, 39.36998242388975],\n",
       "    [-74.85543625454284, 39.369964555438884],\n",
       "    [-74.85542655500768, 39.36994220817361],\n",
       "    [-74.85541489435626, 39.36991692937278],\n",
       "    [-74.85541475836256, 39.36989010382236],\n",
       "    [-74.85542037393705, 39.369860269132694],\n",
       "    [-74.85543009211221, 39.36983066873257],\n",
       "    [-74.85544314206679, 39.36981591242556],\n",
       "    [-74.85554055100576, 39.36975109201156],\n",
       "    [-74.8555926770573, 39.369678474706426],\n",
       "    [-74.85560704443542, 39.36963768469969],\n",
       "    [-74.85562412986255, 39.36955389007044],\n",
       "    [-74.85564818249064, 39.36928166720969],\n",
       "    [-74.85572200864922, 39.36901703461207],\n",
       "    [-74.85581970071047, 39.36872242856734],\n",
       "    [-74.85592640534212, 39.36848213141793],\n",
       "    [-74.85618145905416, 39.36816439199745],\n",
       "    [-74.85654372961264, 39.36771505373924],\n",
       "    [-74.85667134557416, 39.36757430463042],\n",
       "    [-74.85675230653256, 39.36743369841533],\n",
       "    [-74.85691676902525, 39.367082271963504],\n",
       "    [-74.85698194152526, 39.36694649097091],\n",
       "    [-74.85702518210395, 39.36689405396581],\n",
       "    [-74.8571427930175, 39.36679633135202],\n",
       "    [-74.85718192630623, 39.36674980986932],\n",
       "    [-74.85723537817726, 39.366646628810955],\n",
       "    [-74.85734327790499, 39.36650371537879],\n",
       "    [-74.85735415644207, 39.36648663153192],\n",
       "    [-74.85735839530791, 39.36645762429653],\n",
       "    [-74.85735822151034, 39.366423523946345],\n",
       "    [-74.85735855181925, 39.366349664106586],\n",
       "    [-74.85735545547327, 39.36631798869014],\n",
       "    [-74.85737486284289, 39.36626021539902],\n",
       "    [-74.857426926756, 39.36617628511336],\n",
       "    [-74.85758938332404, 39.36600824615245],\n",
       "    [-74.85761538629893, 39.3659606388581],\n",
       "    [-74.8576584364841, 39.365822399585966],\n",
       "    [-74.85771717424159, 39.36561846408095],\n",
       "    [-74.85782977306387, 39.365391738308986],\n",
       "    [-74.85788476028465, 39.3653055477063],\n",
       "    [-74.85803853437514, 39.36514884621292],\n",
       "    [-74.85833314338325, 39.364871753382396],\n",
       "    [-74.85840850373695, 39.36478549979221],\n",
       "    [-74.85846353609556, 39.36470836997244],\n",
       "    [-74.85855178702666, 39.36456999110431],\n",
       "    [-74.85861267211469, 39.36450300156309],\n",
       "    [-74.8586495000694, 39.364428205885915],\n",
       "    [-74.85865882335597, 39.36439759030003],\n",
       "    [-74.85865206528945, 39.3643625220492],\n",
       "    [-74.85862923163401, 39.36431731612878],\n",
       "    [-74.85862557630838, 39.36431507628022],\n",
       "    [-74.85859028302187, 39.36425403925568],\n",
       "    [-74.85857935454928, 39.36411599384666],\n",
       "    [-74.85858753596472, 39.364000513283955],\n",
       "    [-74.85859889503703, 39.36394614168766],\n",
       "    [-74.8586423936791, 39.363896201198074],\n",
       "    [-74.85879345886293, 39.36377800205314],\n",
       "    [-74.85891680534652, 39.36366216633995],\n",
       "    [-74.85909087796053, 39.36348505611908],\n",
       "    [-74.85914875156392, 39.36339657695074],\n",
       "    [-74.85920964104733, 39.36332395793766],\n",
       "    [-74.85924422791071, 39.3632468629139],\n",
       "    [-74.85924381044074, 39.36316537281298],\n",
       "    [-74.85923760352212, 39.363086152596836],\n",
       "    [-74.85938005705927, 39.36271669588681],\n",
       "    [-74.85948089305099, 39.36247413434668],\n",
       "    [-74.85956890714853, 39.36229728918149],\n",
       "    [-74.85958906004382, 39.362240639189515],\n",
       "    [-74.85963513168497, 39.362127292549815],\n",
       "    [-74.85968717946878, 39.36204111013808],\n",
       "    [-74.85984811253418, 39.361861760315385],\n",
       "    [-74.85971655611182, 39.36165885062474],\n",
       "    [-74.85971194853362, 39.36164310526644],\n",
       "    [-74.85971310725763, 39.36160024223822],\n",
       "    [-74.85973040838364, 39.361566608515346],\n",
       "    [-74.85977412389173, 39.3615112035272],\n",
       "    [-74.85984494614804, 39.36143781299187],\n",
       "    [-74.85992705146832, 39.361309116763636],\n",
       "    [-74.85996835200021, 39.36119677381655],\n",
       "    [-74.86002278562397, 39.36099010375744],\n",
       "    [-74.86001795233074, 39.36086167727762],\n",
       "    [-74.85998190232289, 39.360777222021],\n",
       "    [-74.85995233114024, 39.360728523127946],\n",
       "    [-74.85986926980078, 39.360663762524155],\n",
       "    [-74.85982501268002, 39.36061348936018],\n",
       "    [-74.85981650738617, 39.360582599090655],\n",
       "    [-74.85980366584667, 39.360533876356726],\n",
       "    [-74.85980546852386, 39.360478572997565],\n",
       "    [-74.85983037337799, 39.36043135320778],\n",
       "    [-74.85987597529076, 39.36033689869816],\n",
       "    [-74.85990031240118, 39.36020665154207],\n",
       "    [-74.8599054060737, 39.36015839401565],\n",
       "    [-74.85990516569782, 39.36011155373828],\n",
       "    [-74.85988525358174, 39.36003586292009],\n",
       "    [-74.85982266113925, 39.359948442250456],\n",
       "    [-74.8597699218013, 39.359878673011586],\n",
       "    [-74.85974230672929, 39.359797459714244],\n",
       "    [-74.8597104923155, 39.3596974784793],\n",
       "    [-74.85972097622806, 39.35966576111494],\n",
       "    [-74.85978425838991, 39.359611970223874],\n",
       "    [-74.85980933804059, 39.35959887783803],\n",
       "    [-74.85982804758824, 39.35957117154473],\n",
       "    [-74.85982782248337, 39.359527296669434],\n",
       "    [-74.85981510750122, 39.35949641940966],\n",
       "    [-74.85979189731748, 39.35946722217028],\n",
       "    [-74.8597770473237, 39.35942663270744],\n",
       "    [-74.85977475967937, 39.359387624057135],\n",
       "    [-74.85975783725291, 39.359356759797244],\n",
       "    [-74.85972942610007, 39.35933408604697],\n",
       "    [-74.8596476438859, 39.359311577236454],\n",
       "    [-74.85959932234162, 39.35928245755741],\n",
       "    [-74.85954670886342, 39.3592370969686],\n",
       "    [-74.8595004082026, 39.35919495705535],\n",
       "    [-74.8594101199673, 39.35914809312792],\n",
       "    [-74.8593321019618, 39.35910761579561],\n",
       "    [-74.85924302436095, 39.359041748191686],\n",
       "    [-74.85921801270685, 39.3590060219464],\n",
       "    [-74.85921427834437, 39.35896745644],\n",
       "    [-74.85923886667553, 39.35892053951185],\n",
       "    [-74.85927772926483, 39.35888458906881],\n",
       "    [-74.85931309751433, 39.35885694042335],\n",
       "    [-74.85932715342517, 39.35883207620612],\n",
       "    [-74.85933047849566, 39.35879074414851],\n",
       "    [-74.85932322788973, 39.35876322708183],\n",
       "    [-74.85929105140357, 39.35871648539096],\n",
       "    [-74.85921613579197, 39.35863956348162],\n",
       "    [-74.85917321433197, 39.35857355334254],\n",
       "    [-74.85915154961198, 39.3585075046133],\n",
       "    [-74.85915121091182, 39.35844136214295],\n",
       "    [-74.85916008025532, 39.35838460918666],\n",
       "    [-74.85918712234121, 39.3583471575733],\n",
       "    [-74.85922670251357, 39.35830637210269],\n",
       "    [-74.85928882123801, 39.35828113972572],\n",
       "    [-74.85936466199541, 39.35824902872388],\n",
       "    [-74.85941890381683, 39.35820495771215],\n",
       "    [-74.85945417412864, 39.358144692021156],\n",
       "    [-74.85946850255819, 39.35807636302844],\n",
       "    [-74.8594632844152, 39.358038103877206],\n",
       "    [-74.85945224283947, 39.357960984803206],\n",
       "    [-74.85944783141794, 39.35792843517308],\n",
       "    [-74.85942341989458, 39.35787842932743],\n",
       "    [-74.85939392786999, 39.357831047901314],\n",
       "    [-74.85937321991544, 39.35777938393268],\n",
       "    [-74.85935988890489, 39.35772464885191],\n",
       "    [-74.85936187109894, 39.35770432503904],\n",
       "    [-74.85937226470767, 39.35768965844114],\n",
       "    [-74.85941803207227, 39.35762771276614],\n",
       "    [-74.85949579910465, 39.3574746489301],\n",
       "    [-74.85954106615169, 39.35731515009586],\n",
       "    [-74.85956840267339, 39.35713538984643],\n",
       "    [-74.85961935979192, 39.35685800283777],\n",
       "    [-74.85962766317398, 39.35660814834604],\n",
       "    [-74.8595956367167, 39.35652148430392],\n",
       "    [-74.85954921577535, 39.35645575983688],\n",
       "    [-74.85946336979701, 39.356364155341424],\n",
       "    [-74.85941277249891, 39.35629764650322],\n",
       "    [-74.85940321889984, 39.35626923123082],\n",
       "    [-74.8594092871924, 39.35623181639746],\n",
       "    [-74.85947734895294, 39.35612427775923],\n",
       "    [-74.8595207695714, 39.356011956251024],\n",
       "    [-74.8595402205546, 39.35592894896767],\n",
       "    [-74.8596566683874, 39.35494649253011],\n",
       "    [-74.85965956052658, 39.3547934130617],\n",
       "    [-74.85972722974543, 39.35440966190125],\n",
       "    [-74.859797488858, 39.354220844536904],\n",
       "    [-74.8599508410425, 39.35390492120283],\n",
       "    [-74.85996015812823, 39.353880483215015],\n",
       "    [-74.86001200704885, 39.353784389579765],\n",
       "    [-74.86003780165107, 39.35371116514382],\n",
       "    [-74.8600584769494, 39.35351563683106],\n",
       "    [-74.86013279428488, 39.35344256491509],\n",
       "    [-74.8602788816167, 39.35334453193051],\n",
       "    [-74.86033104717039, 39.35331024154983],\n",
       "    [-74.86039794866659, 39.353280765369405],\n",
       "    [-74.86054561937388, 39.35325344952166],\n",
       "    [-74.86057683385046, 39.35324767502935],\n",
       "    [-74.86072316285042, 39.3531968385322],\n",
       "    [-74.86076915324465, 39.353172287705135],\n",
       "    [-74.86080036464858, 39.35313479483846],\n",
       "    [-74.86080851225978, 39.35308924638435],\n",
       "    [-74.86086257756085, 39.352812644427544],\n",
       "    [-74.8608545873992, 39.35273743827997],\n",
       "    [-74.8608679445104, 39.35268014965896],\n",
       "    [-74.86092428872993, 39.35248915151791],\n",
       "    [-74.86098859054104, 39.3523808272823],\n",
       "    [-74.86101438510335, 39.352348925351194],\n",
       "    [-74.86103595586529, 39.352293725423834],\n",
       "    [-74.86103975321693, 39.35224138123929],\n",
       "    [-74.86103000035219, 39.352201544461266],\n",
       "    [-74.86100924055864, 39.35214647584198],\n",
       "    [-74.86097325457837, 39.35205328993703],\n",
       "    [-74.8609557281914, 39.351960045868985],\n",
       "    [-74.86096229750513, 39.351910191926684],\n",
       "    [-74.86097035235176, 39.35188792690968],\n",
       "    [-74.86099202773146, 39.35185285250172],\n",
       "    [-74.86102591941781, 39.35180716921952],\n",
       "    [-74.86107961304408, 39.3517540117491],\n",
       "    [-74.86117279913307, 39.35169221907349],\n",
       "    [-74.86119864139462, 39.35166987181507],\n",
       "    [-74.86124887666828, 39.351611425548256],\n",
       "    [-74.86126779291516, 39.351576386675966],\n",
       "    [-74.8612812531183, 39.351539223517875],\n",
       "    [-74.86133137911446, 39.35132916174149],\n",
       "    [-74.86135787133908, 39.35117219214804],\n",
       "    [-74.86138212199727, 39.351108500020096],\n",
       "    [-74.86145503664011, 39.35094927204969],\n",
       "    [-74.86150918246933, 39.35085369213961],\n",
       "    [-74.8616501666449, 39.35059719326837],\n",
       "    [-74.86167713602792, 39.3505466984652],\n",
       "    [-74.86168521569026, 39.350488136174015],\n",
       "    [-74.86168077288474, 39.35044262676554],\n",
       "    [-74.86166177432902, 39.3504069093276],\n",
       "    [-74.86162799829732, 39.35035822383506],\n",
       "    [-74.86161732135551, 39.350317621575805],\n",
       "    [-74.86161503404031, 39.35027858497574],\n",
       "    [-74.86162528357553, 39.35023627011788],\n",
       "    [-74.86164395653043, 39.35020208319623],\n",
       "    [-74.86166050855488, 39.3501613684031],\n",
       "    [-74.86168285171306, 39.35002958917452],\n",
       "    [-74.86173307353984, 39.34981807207188],\n",
       "    [-74.86174544370277, 39.34978225714366],\n",
       "    [-74.86177568607978, 39.349756134301586],\n",
       "    [-74.86184572163202, 39.34973153531795],\n",
       "    [-74.86192934579917, 39.349702006252954],\n",
       "    [-74.86200034691495, 39.349666009856165],\n",
       "    [-74.86203373678295, 39.34963987625613],\n",
       "    [-74.86205246804174, 39.34961705637786],\n",
       "    [-74.86213665718564, 39.34949809951563],\n",
       "    [-74.86218217228513, 39.34938900968728],\n",
       "    [-74.86220564184072, 39.34927024170888],\n",
       "    [-74.86220450022618, 39.349049109549334],\n",
       "    [-74.86218153428452, 39.34865567120239],\n",
       "    [-74.86218963854692, 39.34860199566459],\n",
       "    [-74.86221646404793, 39.348523852670844],\n",
       "    [-74.86225793955563, 39.348447311649885],\n",
       "    [-74.86228483212489, 39.34838218330308],\n",
       "    [-74.86231860885421, 39.34823249449245],\n",
       "    [-74.86236986369433, 39.34801605812958],\n",
       "    [-74.86243186260765, 39.34785326652997],\n",
       "    [-74.86246699188374, 39.34776697142152],\n",
       "    [-74.8625043186328, 39.34769530218307],\n",
       "    [-74.86258449019206, 39.347607274109414],\n",
       "    [-74.86264286014895, 39.34755668123217],\n",
       "    [-74.86266985408815, 39.34751107388364],\n",
       "    [-74.86267380983783, 39.347462271088915],\n",
       "    [-74.86266521021487, 39.347420014854734],\n",
       "    [-74.86263555049422, 39.347353442066684],\n",
       "    [-74.86259965566875, 39.34729825689399],\n",
       "    [-74.86258671877123, 39.347251401126776],\n",
       "    [-74.86263406306058, 39.34706564571046],\n",
       "    [-74.8627307771096, 39.34673687994746],\n",
       "    [-74.86274312948501, 39.346697825644995],\n",
       "    [-74.8627638303457, 39.34664573134408],\n",
       "    [-74.86279494524307, 39.346590336445594],\n",
       "    [-74.86283244766344, 39.346552823387775],\n",
       "    [-74.86290336221492, 39.346494064172894],\n",
       "    [-74.86305786665751, 39.34638589790073],\n",
       "    [-74.86309559232399, 39.34636444637274],\n",
       "    [-74.86311260232152, 39.34635068750804],\n",
       "    [-74.86316411982536, 39.34630901662538],\n",
       "    [-74.86320520109632, 39.3462661387756],\n",
       "    [-74.86326581192996, 39.346232095439696],\n",
       "    [-74.86333390326759, 39.34620159772262],\n",
       "    [-74.86340605732823, 39.34617734789795],\n",
       "    [-74.86343469353342, 39.34616924128844],\n",
       "    [-74.8634472767501, 39.34616118480181],\n",
       "    [-74.86345523000998, 39.34614691007973],\n",
       "    [-74.86346421286335, 39.346113027851196],\n",
       "    [-74.86346275873382, 39.346050678442616],\n",
       "    [-74.86345437186095, 39.3459812388013],\n",
       "    [-74.86344736857582, 39.345851226288346],\n",
       "    [-74.86344832804612, 39.34581113642088],\n",
       "    [-74.8634550243825, 39.34577281313975],\n",
       "    [-74.8634766457929, 39.34574158215474],\n",
       "    [-74.86349719946027, 39.34572281988612],\n",
       "    [-74.86353378526884, 39.34569955934791],\n",
       "    [-74.86355204522431, 39.34568168342275],\n",
       "    [-74.86356968344309, 39.345659799938836],\n",
       "    [-74.86357500247797, 39.345628619858445],\n",
       "    [-74.86357084637189, 39.345604581258065],\n",
       "    [-74.86356213203375, 39.34558099558966],\n",
       "    [-74.86355054964567, 39.345563651572185],\n",
       "    [-74.86353615631971, 39.3455499132612],\n",
       "    [-74.86351568281091, 39.34552949462681],\n",
       "    [-74.86349668591912, 39.34551439785702],\n",
       "    [-74.86347481327864, 39.34549711389405],\n",
       "    [-74.86345286886338, 39.34547269034378],\n",
       "    [-74.86341895197043, 39.345403303389446],\n",
       "    [-74.86340506242928, 39.345377510672385],\n",
       "    [-74.86340263977955, 39.34535349367668],\n",
       "    [-74.86340939610365, 39.34532675640556],\n",
       "    [-74.8634400406756, 39.34526252225853],\n",
       "    [-74.8634615637869, 39.34521256647617],\n",
       "    [-74.86348204465055, 39.34517955454765],\n",
       "    [-74.86351402788308, 39.34515540217432],\n",
       "    [-74.86355692342049, 39.345128552916975],\n",
       "    [-74.86360831513004, 39.3450829790207],\n",
       "    [-74.86364133250972, 39.34504012620132],\n",
       "    [-74.86364582851179, 39.34502050785995],\n",
       "    [-74.86364911940932, 39.34499378230168],\n",
       "    [-74.8636398412573, 39.344970637992645],\n",
       "    [-74.86362478007179, 39.34494396887063],\n",
       "    [-74.86362695365199, 39.344919910494],\n",
       "    [-74.86363606457796, 39.34490384763839],\n",
       "    [-74.8636486208294, 39.34489757571443],\n",
       "    [-74.86367268780324, 39.34489483682625],\n",
       "    [-74.8636955866544, 39.344884963576966],\n",
       "    ...]]}}"
      ]
     },
     "execution_count": 48,
     "metadata": {},
     "output_type": "execute_result"
    }
   ],
   "source": [
    "geojson['features'][0]"
   ]
  },
  {
   "cell_type": "code",
   "execution_count": 50,
   "metadata": {},
   "outputs": [],
   "source": [
    "with open(\"static/data/final.geojson\", \"w\",encoding ='utf8') as outfile:  \n",
    "    json.dump(geojson, outfile) "
   ]
  },
  {
   "cell_type": "code",
   "execution_count": null,
   "metadata": {},
   "outputs": [],
   "source": [
    "# test\n",
    "f = open(\"static/data/final_data.json\")\n",
    "geojson = json.load(f)\n",
    "pprint(geojson)"
   ]
  }
 ],
 "metadata": {
  "kernelspec": {
   "display_name": "Python (PythonData)",
   "language": "python",
   "name": "myenv"
  },
  "language_info": {
   "codemirror_mode": {
    "name": "ipython",
    "version": 3
   },
   "file_extension": ".py",
   "mimetype": "text/x-python",
   "name": "python",
   "nbconvert_exporter": "python",
   "pygments_lexer": "ipython3",
   "version": "3.8.5"
  }
 },
 "nbformat": 4,
 "nbformat_minor": 4
}
