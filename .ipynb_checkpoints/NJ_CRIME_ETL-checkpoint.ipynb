{
 "cells": [
  {
   "cell_type": "code",
   "execution_count": null,
   "metadata": {},
   "outputs": [],
   "source": [
    "#dependencies and setup\n",
    "import pandas as pd\n",
    "import os\n",
    "from openpyxl import Workbook\n",
    "import numpy as np\n",
    "import requests\n",
    "import json\n",
    "import re\n",
    "from pprint import pprint\n",
    "from bs4 import BeautifulSoup\n",
    "from splinter import Browser\n",
    "from webdriver_manager.chrome import ChromeDriverManager\n",
    "import time"
   ]
  },
  {
   "cell_type": "code",
   "execution_count": null,
   "metadata": {},
   "outputs": [],
   "source": [
    "# SQLite dependencies\n",
    "import sqlite3\n",
    "from sqlalchemy import create_engine\n",
    "from sqlalchemy import Column, Integer, String, Float"
   ]
  },
  {
   "cell_type": "markdown",
   "metadata": {},
   "source": [
    "# Extraction"
   ]
  },
  {
   "cell_type": "markdown",
   "metadata": {},
   "source": [
    "## School performance score 2020"
   ]
  },
  {
   "cell_type": "code",
   "execution_count": null,
   "metadata": {},
   "outputs": [],
   "source": [
    "# create a browser instance using splinter\n",
    "executable_path = {'executable_path': ChromeDriverManager().install()}\n",
    "browser = Browser('chrome', **executable_path, headless=False)\n",
    "time.sleep(1)"
   ]
  },
  {
   "cell_type": "code",
   "execution_count": null,
   "metadata": {},
   "outputs": [],
   "source": [
    "# visit the NJ schools url\n",
    "nj_school_rate_URL = 'https://patch.com/new-jersey/pointpleasant/every-nj-school-graded-2020-state-report-where-do-you-rank?fbclid=IwAR3F6wscWhMGHzRk2hy4MeZJ426hdUOFCF8qDjHzFiI7B3RfxshE9imZdyg'\n",
    "browser.visit(nj_school_rate_URL)\n",
    "time.sleep(1)\n",
    "\n",
    "# create HTML object\n",
    "html = browser.html\n",
    "\n",
    "# parse HTML with BeautifulSoup\n",
    "soup = BeautifulSoup(html, 'html.parser')"
   ]
  },
  {
   "cell_type": "code",
   "execution_count": null,
   "metadata": {},
   "outputs": [],
   "source": [
    "# access html elements to get the link for the table data\n",
    "ol = soup.find('ol')\n",
    "li = ol.find_all('li')\n",
    "# iframe = div.find('iframe')\n",
    "# table_data_link = iframe['src'].split(\"?\")[0]\n",
    "pprint(li)\n",
    "# print(table_data_link)"
   ]
  },
  {
   "cell_type": "code",
   "execution_count": null,
   "metadata": {},
   "outputs": [],
   "source": [
    "records = []\n",
    "for elem in li:\n",
    "    records.append(elem.text.split(\",\",4))\n",
    "print(records)"
   ]
  },
  {
   "cell_type": "code",
   "execution_count": null,
   "metadata": {},
   "outputs": [],
   "source": [
    "# close the browser session    \n",
    "browser.quit()"
   ]
  },
  {
   "cell_type": "code",
   "execution_count": null,
   "metadata": {},
   "outputs": [],
   "source": [
    "temp = re.findall(r'\\d+', records[i][2]) \n",
    "res = list(map(int, temp)) \n",
    "re.sub(r'[^A-Za-z0-9 ]+', '', s)"
   ]
  },
  {
   "cell_type": "code",
   "execution_count": null,
   "metadata": {},
   "outputs": [],
   "source": [
    "county_name = []\n",
    "district_name = []\n",
    "school_name = []\n",
    "rating = []\n",
    "for i in range(len(records)):\n",
    "    l =len(records[i])\n",
    "    county_name.append(re.sub(r'[^A-Za-z ]+', '', records[i][l-1]).upper().strip())\n",
    "    rating.append(re.sub(r'[^0-9.]','', records[i][l-1]))\n",
    "    district_name.append(records[i][l-2].strip().upper())\n",
    "    school_name.append(records[i][l-3].strip().upper())"
   ]
  },
  {
   "cell_type": "code",
   "execution_count": null,
   "metadata": {},
   "outputs": [],
   "source": [
    "school_ratings_2020_df = pd.DataFrame({\"county_name\": county_name,\n",
    "                                    \"district_name\": district_name,\n",
    "                                    \"school_name\": school_name,\n",
    "                                    \"rating\": rating})\n",
    "school_ratings_2020_df.sort_values(by =[\"county_name\", \"district_name\", \"school_name\"], ascending=True, inplace=True, ignore_index=True)\n",
    "school_ratings_2020_df.drop(school_ratings_2020_df[school_ratings_2020_df.county_name =='CHARTERS'].index, inplace=True)\n",
    "school_ratings_2020_df.head()"
   ]
  },
  {
   "cell_type": "code",
   "execution_count": null,
   "metadata": {},
   "outputs": [],
   "source": [
    "len(school_ratings_2020_df)"
   ]
  },
  {
   "cell_type": "markdown",
   "metadata": {},
   "source": [
    "## School performance score 2017-2018"
   ]
  },
  {
   "cell_type": "code",
   "execution_count": null,
   "metadata": {},
   "outputs": [],
   "source": [
    "# create a browser instance using splinter\n",
    "executable_path = {'executable_path': ChromeDriverManager().install()}\n",
    "browser = Browser('chrome', **executable_path, headless=False)\n",
    "time.sleep(1)"
   ]
  },
  {
   "cell_type": "code",
   "execution_count": null,
   "metadata": {},
   "outputs": [],
   "source": [
    "# visit the Mars News url\n",
    "nj_school_rate_URL = 'https://www.nj.com/education/2019/03/nj-just-graded-its-public-schools-from-0-100-heres-how-every-school-scored.html'\n",
    "browser.visit(nj_school_rate_URL)\n",
    "time.sleep(1)\n",
    "\n",
    "# create HTML object\n",
    "html = browser.html\n",
    "\n",
    "# parse HTML with BeautifulSoup\n",
    "soup = BeautifulSoup(html, 'html.parser')"
   ]
  },
  {
   "cell_type": "code",
   "execution_count": null,
   "metadata": {},
   "outputs": [],
   "source": [
    "# access html elements to get the link for the table data\n",
    "div = soup.find('div', class_ = 'rawhtml')\n",
    "iframe = div.find('iframe')\n",
    "table_data_link = iframe['src'].split(\"?\")[0]\n",
    "# pprint(iframe)\n",
    "print(table_data_link)"
   ]
  },
  {
   "cell_type": "code",
   "execution_count": null,
   "metadata": {},
   "outputs": [],
   "source": [
    "# go to the file page in S3\n",
    "browser.visit(table_data_link)\n",
    "time.sleep(1)\n",
    "\n",
    "# create HTML object\n",
    "html = browser.html\n",
    "\n",
    "# parse HTML with BeautifulSoup\n",
    "soup = BeautifulSoup(html, 'html.parser')"
   ]
  },
  {
   "cell_type": "code",
   "execution_count": null,
   "metadata": {},
   "outputs": [],
   "source": [
    "div = soup.find('div', class_ = 'download')\n",
    "school_rating_file_url = div.find('a', href = True)['href']\n",
    "print(school_rating_file_url)"
   ]
  },
  {
   "cell_type": "code",
   "execution_count": null,
   "metadata": {},
   "outputs": [],
   "source": [
    "# close the browser session    \n",
    "browser.quit()"
   ]
  },
  {
   "cell_type": "code",
   "execution_count": null,
   "metadata": {
    "scrolled": true
   },
   "outputs": [],
   "source": [
    "# import the csv from the URL into dataframe \n",
    "dtype_dic= {'COUNTY_CODE': str, \n",
    "            'DISTRICT_CODE' : str,\n",
    "           \"SCHOOL_CODE\": str}\n",
    "school_rating_df = pd.read_csv(school_rating_file_url, dtype = dtype_dic)\n",
    "# school_data.columns\n",
    "school_rating_df = school_rating_df[['COUNTY_CODE', 'COUNTY_NAME', 'DISTRICT_CODE', 'DISTRICT_NAME',\n",
    "       'SCHOOL_CODE', 'SCHOOL_NAME', 'GRADESPAN', 'PRINCIPAL_NAME', 'ADDRESS',\n",
    "       'CITY_STATE_ZIP', 'PHONE', 'EMAIL', 'WEBSITE', 'FACEBOOK', 'TWITTER',\n",
    "       'CutOffScoreTargetedSupImp', 'Targeted_LowPerf', 'ELAProf_MetTarget',\n",
    "       'MathProf_MetTarget', 'Grad4YR_MetTarget', 'Grad5YR_MetTarget',\n",
    "       'ELAGrowth_MetStandard', 'MathGrowth_MetStandard', 'ELP_MetTarget',\n",
    "       'CA_MetAverage', 'Targeted_ConsUnderPerf', 'SummativeRating', 'SummativeScore']]\n",
    "school_rating_df.head()"
   ]
  },
  {
   "cell_type": "code",
   "execution_count": null,
   "metadata": {},
   "outputs": [],
   "source": [
    "# drop charter school records\n",
    "school_rating_df.drop(school_rating_df[school_rating_df.COUNTY_NAME =='CHARTERS'].index, inplace=True)"
   ]
  },
  {
   "cell_type": "code",
   "execution_count": null,
   "metadata": {
    "scrolled": true
   },
   "outputs": [],
   "source": [
    "# unique counties\n",
    "school_rating_df['COUNTY_CODE'].nunique()"
   ]
  },
  {
   "cell_type": "code",
   "execution_count": null,
   "metadata": {},
   "outputs": [],
   "source": [
    "# make all the column name lower case\n",
    "school_rating_df.columns= school_rating_df.columns.str.lower()\n",
    "school_rating_df.head()"
   ]
  },
  {
   "cell_type": "markdown",
   "metadata": {},
   "source": [
    "### Offline copy import"
   ]
  },
  {
   "cell_type": "code",
   "execution_count": null,
   "metadata": {
    "scrolled": true
   },
   "outputs": [],
   "source": [
    "# File to Load (Remember to Change These)\n",
    "# source = https://www.nj.com/education/2019/03/nj-just-graded-its-public-schools-from-0-100-heres-how-every-school-scored.html\n",
    "# file_to_load = \"data/school_scores_2017_18.csv\"\n",
    "# dtype_dic= {'COUNTY_CODE': str, \n",
    "#             'DISTRICT_CODE' : str,\n",
    "#            \"SCHOOL_CODE\": str}\n",
    "# Read school score File and store into Pandas data frame\n",
    "# school_data = pd.read_csv(file_to_load, dtype = dtype_dic)\n",
    "# school_data = school_data[['COUNTY_CODE', 'COUNTY_NAME', 'DISTRICT_CODE', 'DISTRICT_NAME',\n",
    "#        'SCHOOL_CODE', 'SCHOOL_NAME', 'GRADESPAN', 'PRINCIPAL_NAME', 'ADDRESS',\n",
    "#        'CITY_STATE_ZIP', 'PHONE', 'EMAIL', 'WEBSITE', 'FACEBOOK', 'TWITTER',\n",
    "#        'CutOffScoreTargetedSupImp', 'Targeted_LowPerf', 'ELAProf_MetTarget',\n",
    "#        'MathProf_MetTarget', 'Grad4YR_MetTarget', 'Grad5YR_MetTarget',\n",
    "#        'ELAGrowth_MetStandard', 'MathGrowth_MetStandard', 'ELP_MetTarget',\n",
    "#        'CA_MetAverage', 'Targeted_ConsUnderPerf', 'SummativeRating', 'SummativeScore']]\n",
    "# school_data.head()"
   ]
  },
  {
   "cell_type": "markdown",
   "metadata": {},
   "source": [
    "## Poverty 2019"
   ]
  },
  {
   "cell_type": "code",
   "execution_count": null,
   "metadata": {},
   "outputs": [],
   "source": [
    "# URL for county poverty data\n",
    "poverty_url = 'https://api.census.gov/data/timeseries/poverty/saipe?get=NAME,SAEMHI_PT,SAEMHI_MOE,SAEPOVALL_PT,SAEPOVALL_MOE,SAEPOVRTALL_MOE,SAEPOVRTALL_PT,STABREV&for=county:*&in=state:34&YEAR=2019'"
   ]
  },
  {
   "cell_type": "code",
   "execution_count": null,
   "metadata": {},
   "outputs": [],
   "source": [
    "# API call to get countries metadata\n",
    "poverty_data = requests.get(poverty_url).json()\n",
    "pprint(poverty_data)"
   ]
  },
  {
   "cell_type": "code",
   "execution_count": null,
   "metadata": {},
   "outputs": [],
   "source": [
    "# initialize empty lists\n",
    "county_name = []\n",
    "median_hh_income = []\n",
    "median_hh_inc_moe = []\n",
    "poverty_count = []\n",
    "poverty_count_moe = []\n",
    "poverty_rate = []\n",
    "poverty_rate_moe = []\n",
    "st_abb =[]\n",
    "state_fips = []\n",
    "county_fips = []"
   ]
  },
  {
   "cell_type": "code",
   "execution_count": null,
   "metadata": {},
   "outputs": [],
   "source": [
    "# iterate through the response to populate the lists and create a dataframe\n",
    "for i in range(1,len(poverty_data)):\n",
    "    county_name.append(poverty_data[i][0])\n",
    "    median_hh_income.append(poverty_data[i][1])\n",
    "    median_hh_inc_moe.append(poverty_data[i][2])\n",
    "    poverty_count.append(poverty_data[i][3])\n",
    "    poverty_count_moe.append(poverty_data[i][4])\n",
    "    poverty_rate.append(poverty_data[i][5])\n",
    "    poverty_rate_moe.append(poverty_data[i][6])\n",
    "    st_abb.append(poverty_data[i][7])\n",
    "    state_fips.append(poverty_data[i][9])\n",
    "    county_fips.append(poverty_data[i][10])\n",
    "counties_poverty_df = pd.DataFrame({\"county_name\": county_name,\n",
    "                                    \"median_hh_income\": median_hh_income,\n",
    "                                    \"median_hh_inc_moe\": median_hh_inc_moe,\n",
    "                                    \"poverty_count\": poverty_count,\n",
    "                                    \"poverty_count_moe\": poverty_count_moe,\n",
    "                                    \"poverty_rate\": poverty_rate,\n",
    "                                    \"poverty_rate_moe\": poverty_rate_moe,\n",
    "                                    \"st_abb\": st_abb,\n",
    "                                    \"state_fips\": state_fips,\n",
    "                                    \"county_fips\": county_fips})\n",
    "counties_poverty_df.head()"
   ]
  },
  {
   "cell_type": "code",
   "execution_count": null,
   "metadata": {
    "scrolled": true
   },
   "outputs": [],
   "source": [
    "# Manipulating the column name to match across all the datasets\n",
    "counties_poverty_df['county_name']= counties_poverty_df.county_name.str.replace(\"County\",\"\")\n",
    "counties_poverty_df['county_name']= counties_poverty_df['county_name'].str.upper()\n",
    "counties_poverty_df['county_name']= counties_poverty_df['county_name'].str.strip()\n",
    "counties_poverty_df"
   ]
  },
  {
   "cell_type": "code",
   "execution_count": null,
   "metadata": {},
   "outputs": [],
   "source": [
    "# unique county count\n",
    "counties_poverty_df['county_name'].nunique()"
   ]
  },
  {
   "cell_type": "markdown",
   "metadata": {},
   "source": [
    "## County crime reports 2020"
   ]
  },
  {
   "cell_type": "code",
   "execution_count": null,
   "metadata": {},
   "outputs": [],
   "source": [
    "# create a browser instance using splinter\n",
    "executable_path = {'executable_path': ChromeDriverManager().install()}\n",
    "browser = Browser('chrome', **executable_path, headless=False)\n",
    "time.sleep(1)"
   ]
  },
  {
   "cell_type": "code",
   "execution_count": null,
   "metadata": {
    "scrolled": true
   },
   "outputs": [],
   "source": [
    "# visit the Mars News url\n",
    "crime_NJ_URL = 'https://www.njsp.org/ucr/current-crime-data.shtml'\n",
    "browser.visit(crime_NJ_URL)\n",
    "time.sleep(2)\n",
    "\n",
    "# create HTML object\n",
    "html = browser.html\n",
    "\n",
    "# parse HTML with BeautifulSoup\n",
    "soup = BeautifulSoup(html, 'lxml')"
   ]
  },
  {
   "cell_type": "code",
   "execution_count": null,
   "metadata": {},
   "outputs": [],
   "source": [
    "# use splinter to click on the 'Continue' button to retrieve a full-size jpg url\n",
    "browser.find_by_tag(\"input\").last.click()\n",
    "time.sleep(1)"
   ]
  },
  {
   "cell_type": "code",
   "execution_count": null,
   "metadata": {},
   "outputs": [],
   "source": [
    "# create HTML object\n",
    "html = browser.html\n",
    "# parse HTML with BeautifulSoup\n",
    "soup = BeautifulSoup(html, 'lxml')\n",
    "# fetch the table\n",
    "table = soup.find('table')\n",
    "# fetch the partial link for donwloadable file\n",
    "download_item = table.find_all('a', href = True)\n",
    "download_link= download_item[0]['href']\n",
    "# create full download link\n",
    "base_url= 'https://www.njsp.org/ucr/'\n",
    "full_file_link = base_url+download_link\n",
    "print(full_file_link)"
   ]
  },
  {
   "cell_type": "code",
   "execution_count": null,
   "metadata": {},
   "outputs": [],
   "source": [
    "# close the browser session    \n",
    "browser.quit()"
   ]
  },
  {
   "cell_type": "code",
   "execution_count": null,
   "metadata": {},
   "outputs": [],
   "source": [
    "# create xlsx object with the file from the link\n",
    "xls = pd.ExcelFile(full_file_link,\n",
    "     engine='openpyxl')\n",
    "# get all the worksheet names\n",
    "crime_sheet = xls.sheet_names\n",
    "print(crime_sheet)"
   ]
  },
  {
   "cell_type": "code",
   "execution_count": null,
   "metadata": {},
   "outputs": [],
   "source": [
    "# unique county\n",
    "len(crime_sheet[1:])"
   ]
  },
  {
   "cell_type": "code",
   "execution_count": null,
   "metadata": {},
   "outputs": [],
   "source": [
    "# create separate dataframes for each worksheet\n",
    "for i in range(1,len(crime_sheet)):\n",
    "    globals()['crime_%s' % crime_sheet[i].lower().replace(\" \", \"_\")] = pd.read_excel(full_file_link,\n",
    "     engine='openpyxl',sheet_name=crime_sheet[i], skiprows=range(3)).dropna(how=\"all\")\n",
    "    globals()['crime_%s' % crime_sheet[i].lower().replace(\" \", \"_\")][\"county_name\"] = '%s' % crime_sheet[i].upper()\n",
    "    globals()['crime_%s' % crime_sheet[i].lower().replace(\" \", \"_\")].drop(globals()['crime_%s' % crime_sheet[i].lower().replace(\" \", \"_\")].tail(7).index, inplace = True)\n",
    "    print('crime_%s' % crime_sheet[i].lower().replace(\" \", \"_\"))"
   ]
  },
  {
   "cell_type": "markdown",
   "metadata": {},
   "source": [
    "### Offline copy import"
   ]
  },
  {
   "cell_type": "code",
   "execution_count": null,
   "metadata": {},
   "outputs": [],
   "source": [
    "# del [crime_atlantic,\n",
    "# crime_bergen,\n",
    "# crime_burlington,\n",
    "# crime_camden,\n",
    "# crime_cape_may,\n",
    "# crime_cumberland,\n",
    "# crime_essex,\n",
    "# crime_gloucester,\n",
    "# crime_hudson,\n",
    "# crime_hunterdon,\n",
    "# crime_mercer,\n",
    "# crime_middlesex,\n",
    "# crime_monmouth,\n",
    "# crime_morris,\n",
    "# crime_ocean,\n",
    "# crime_passaic,\n",
    "# crime_salem,\n",
    "# crime_somerset,\n",
    "# crime_sussex,\n",
    "# crime_union,\n",
    "# crime_warren]"
   ]
  },
  {
   "cell_type": "code",
   "execution_count": null,
   "metadata": {},
   "outputs": [],
   "source": [
    "# source : https://www.njsp.org/ucr/current-crime-data1.shtml?agree=0\n",
    "# xls = pd.ExcelFile(os.path.join(\"data\", \"2020_UCR_Jan-Sept_v2.xlsx\"),\n",
    "#      engine='openpyxl')"
   ]
  },
  {
   "cell_type": "code",
   "execution_count": null,
   "metadata": {},
   "outputs": [],
   "source": [
    "# crime_sheet = xls.sheet_names\n",
    "# crime_sheet"
   ]
  },
  {
   "cell_type": "code",
   "execution_count": null,
   "metadata": {},
   "outputs": [],
   "source": [
    "# for i in range(1,len(crime_sheet)):\n",
    "#     globals()['crime_%s' % crime_sheet[i].lower()] = pd.read_excel(os.path.join(\"data\", \"2020_UCR_Jan-Sept_v2.xlsx\"),\n",
    "#      engine='openpyxl',sheet_name=crime_sheet[i], skiprows=range(3)).dropna(how=\"all\")\n",
    "#     print('crime_%s' % crime_sheet[i].lower())"
   ]
  },
  {
   "cell_type": "markdown",
   "metadata": {},
   "source": [
    "#### Atlantic crime"
   ]
  },
  {
   "cell_type": "code",
   "execution_count": null,
   "metadata": {
    "scrolled": true
   },
   "outputs": [],
   "source": [
    "crime_atlantic.head(-1)"
   ]
  },
  {
   "cell_type": "code",
   "execution_count": null,
   "metadata": {},
   "outputs": [],
   "source": [
    "len(crime_atlantic)"
   ]
  },
  {
   "cell_type": "code",
   "execution_count": null,
   "metadata": {},
   "outputs": [],
   "source": [
    "# concat all the dataframes\n",
    "all_crime_df = pd.concat([crime_atlantic,\n",
    "crime_bergen,\n",
    "crime_burlington,\n",
    "crime_camden,\n",
    "crime_cape_may,\n",
    "crime_cumberland,\n",
    "crime_essex,\n",
    "crime_gloucester,\n",
    "crime_hudson,\n",
    "crime_hunterdon,\n",
    "crime_mercer,\n",
    "crime_middlesex,\n",
    "crime_monmouth,\n",
    "crime_morris,\n",
    "crime_ocean,\n",
    "crime_passaic,\n",
    "crime_salem,\n",
    "crime_somerset,\n",
    "crime_sussex,\n",
    "crime_union,\n",
    "crime_warren], ignore_index = True)"
   ]
  },
  {
   "cell_type": "code",
   "execution_count": null,
   "metadata": {},
   "outputs": [],
   "source": [
    "# make all the column name lower case\n",
    "all_crime_df.columns= all_crime_df.columns.str.lower()\n",
    "all_crime_df.columns= all_crime_df.columns.str.replace(\" \",\"_\")\n",
    "all_crime_df.head(10)"
   ]
  },
  {
   "cell_type": "markdown",
   "metadata": {},
   "source": [
    "### Population dataset"
   ]
  },
  {
   "cell_type": "code",
   "execution_count": null,
   "metadata": {
    "scrolled": false
   },
   "outputs": [],
   "source": [
    "population_df = all_crime_df[[\"county_name\",\"agency\", \"orinumber\", \"population\"]].dropna(how=\"any\")\n",
    "population_df[\"population\"] = population_df[\"population\"].astype(int)\n",
    "population_df.drop_duplicates(keep='first', inplace= True, ignore_index=True)\n",
    "population_df.head(-10)"
   ]
  },
  {
   "cell_type": "code",
   "execution_count": null,
   "metadata": {},
   "outputs": [],
   "source": [
    "# unique county count\n",
    "population_df['county_name'].nunique()"
   ]
  },
  {
   "cell_type": "code",
   "execution_count": null,
   "metadata": {},
   "outputs": [],
   "source": [
    "len(population_df)"
   ]
  },
  {
   "cell_type": "markdown",
   "metadata": {},
   "source": [
    "### Crime detail"
   ]
  },
  {
   "cell_type": "code",
   "execution_count": null,
   "metadata": {},
   "outputs": [],
   "source": [
    "pol_dep = []\n",
    "for i in range(len(population_df[\"agency\"])):\n",
    "    for k in range(5):\n",
    "        pol_dep.append(population_df[\"agency\"][i])\n",
    "print(pol_dep)"
   ]
  },
  {
   "cell_type": "code",
   "execution_count": null,
   "metadata": {},
   "outputs": [],
   "source": [
    "len(pol_dep)"
   ]
  },
  {
   "cell_type": "code",
   "execution_count": null,
   "metadata": {
    "scrolled": true
   },
   "outputs": [],
   "source": [
    "crime_det_df = all_crime_df[[\"county_name\",\"agency\", \"murder\", \"rape\", \"robbery\", \"assault\", \"burglary\",\\\n",
    "                         \"larceny\", \"auto_theft\", \"total\"]].dropna(how=\"any\")\n",
    "\n",
    "crime_det_df.rename(columns = {\"agency\": \"report_type\"}, inplace =True)\n",
    "\n",
    "crime_det_df = crime_det_df.loc[crime_det_df[\"report_type\"] != crime_det_df[\"report_type\"].shift()]\n",
    "crime_det_df.reset_index(inplace= True, drop = True)\n",
    "crime_det_df[\"police_dept\"] = pol_dep\n",
    "crime_det_df = crime_det_df[[\"county_name\",\"police_dept\", \"report_type\", \"murder\", \"rape\", \"robbery\", \"assault\", \"burglary\",\\\n",
    "                         \"larceny\", \"auto_theft\", \"total\"]]\n",
    "crime_det_df.head(-1)"
   ]
  },
  {
   "cell_type": "markdown",
   "metadata": {},
   "source": [
    "### Crime summary dataset"
   ]
  },
  {
   "cell_type": "code",
   "execution_count": null,
   "metadata": {
    "scrolled": true
   },
   "outputs": [],
   "source": [
    "crime_df = all_crime_df[[\"county_name\",\"agency\", \"murder\", \"rape\", \"robbery\", \"assault\", \"burglary\",\\\n",
    "                         \"larceny\", \"auto_theft\", \"total\"]].dropna(how=\"any\")\n",
    "crime_df.reset_index(inplace= True, drop = True)\n",
    "crime_df.rename(columns = {\"agency\": \"report_type\"}, inplace =True)\n",
    "crime_df = crime_df.groupby(['county_name', 'report_type'],as_index=False).agg(murder = ('murder', 'sum'), rape = ('rape', 'sum'),\\\n",
    "                                                               robbery = ('robbery', 'sum'),assault = ('assault', 'sum'),\\\n",
    "                                                               burglary = ('burglary', 'sum'),larceny = ('larceny', 'sum'),\\\n",
    "                                                               auto_theft = ('auto_theft', 'sum'),total = ('total', 'sum'))\n",
    "crime_df.head(-10)"
   ]
  },
  {
   "cell_type": "code",
   "execution_count": null,
   "metadata": {},
   "outputs": [],
   "source": [
    "# unique county count\n",
    "crime_df['county_name'].nunique()"
   ]
  },
  {
   "cell_type": "code",
   "execution_count": null,
   "metadata": {},
   "outputs": [],
   "source": [
    "# county record count\n",
    "crime_df['county_name'].value_counts()"
   ]
  },
  {
   "cell_type": "markdown",
   "metadata": {},
   "source": [
    "# DB load"
   ]
  },
  {
   "cell_type": "code",
   "execution_count": null,
   "metadata": {},
   "outputs": [],
   "source": [
    "# Connect to the NJ_CPS database\n",
    "connection  = sqlite3.connect(\"Resources/NJ_CPS.sqlite\")\n",
    "\n",
    "# Get a cursor object\n",
    "cursor = connection.cursor()\n",
    "\n",
    "# Execute the DROP Table SQL statement\n",
    "drop_school = \"DROP TABLE IF EXISTS NJ_school_rating\"\n",
    "\n",
    "cursor.execute(drop_school)\n",
    "\n",
    "drop_poverty = \"DROP TABLE IF EXISTS NJ_poverty\"\n",
    "\n",
    "cursor.execute(drop_poverty)\n",
    "\n",
    "drop_population = \"DROP TABLE IF EXISTS NJ_population\"\n",
    "\n",
    "cursor.execute(drop_population)\n",
    "\n",
    "drop_crime = \"DROP TABLE IF EXISTS NJ_crime\"\n",
    "\n",
    "cursor.execute(drop_crime)\n",
    "\n",
    "drop_crime_det = \"DROP TABLE IF EXISTS NJ_crime_detail\"\n",
    "\n",
    "cursor.execute(drop_crime_det)"
   ]
  },
  {
   "cell_type": "code",
   "execution_count": null,
   "metadata": {},
   "outputs": [],
   "source": [
    "#  SQLite DB creation and establishing connection\n",
    "database_path = \"Resources/NJ_CPS.sqlite\"\n",
    "engine = create_engine(f\"sqlite:///{database_path}\", echo=True)\n",
    "sqlite_connection = engine.connect()"
   ]
  },
  {
   "cell_type": "markdown",
   "metadata": {},
   "source": [
    "## Loading school ratings in to DB"
   ]
  },
  {
   "cell_type": "code",
   "execution_count": null,
   "metadata": {
    "scrolled": true
   },
   "outputs": [],
   "source": [
    "sqlite_table = \"NJ_school_rating\"\n",
    "school_rating_df.to_sql(sqlite_table, sqlite_connection, if_exists='replace', index=False)"
   ]
  },
  {
   "cell_type": "markdown",
   "metadata": {},
   "source": [
    "## Loading poverty rates in DB"
   ]
  },
  {
   "cell_type": "code",
   "execution_count": null,
   "metadata": {
    "scrolled": true
   },
   "outputs": [],
   "source": [
    "sqlite_table = \"NJ_poverty\"\n",
    "counties_poverty_df.to_sql(sqlite_table, sqlite_connection, if_exists='replace', index=False)"
   ]
  },
  {
   "cell_type": "markdown",
   "metadata": {},
   "source": [
    "## Loading crime detail data in DB"
   ]
  },
  {
   "cell_type": "code",
   "execution_count": null,
   "metadata": {},
   "outputs": [],
   "source": [
    "sqlite_table = \"NJ_crime_detail\"\n",
    "crime_det_df.to_sql(sqlite_table, sqlite_connection, if_exists='replace', index=False)"
   ]
  },
  {
   "cell_type": "markdown",
   "metadata": {},
   "source": [
    "## Loading crime data in DB"
   ]
  },
  {
   "cell_type": "code",
   "execution_count": null,
   "metadata": {
    "scrolled": true
   },
   "outputs": [],
   "source": [
    "sqlite_table = \"NJ_crime\"\n",
    "crime_df.to_sql(sqlite_table, sqlite_connection, if_exists='replace', index=False)"
   ]
  },
  {
   "cell_type": "markdown",
   "metadata": {},
   "source": [
    "## Loading population data in DB"
   ]
  },
  {
   "cell_type": "code",
   "execution_count": null,
   "metadata": {
    "scrolled": true
   },
   "outputs": [],
   "source": [
    "sqlite_table = \"NJ_population\"\n",
    "population_df.to_sql(sqlite_table, sqlite_connection, if_exists='replace', index=False)"
   ]
  },
  {
   "cell_type": "markdown",
   "metadata": {},
   "source": [
    "# DB query Test"
   ]
  },
  {
   "cell_type": "code",
   "execution_count": null,
   "metadata": {},
   "outputs": [],
   "source": [
    "metadata_df = pd.read_sql_query(\"SELECT T1.*, T2.population FROM (SELECT county_name,median_hh_income,poverty_rate FROM NJ_poverty) AS T1 \\\n",
    "                                INNER JOIN (SELECT county_name, sum(population) as population FROM NJ_population GROUP BY county_name) AS T2\\\n",
    "                                ON T1.county_name = T2.county_name\", sqlite_connection)\n",
    "metadata_df[\"median_hh_income\"] = metadata_df[\"median_hh_income\"].astype(int)\n",
    "metadata_df"
   ]
  },
  {
   "cell_type": "code",
   "execution_count": null,
   "metadata": {},
   "outputs": [],
   "source": [
    "school_df = pd.read_sql_query(\"SELECT county_name,district_code||school_code as school_id, gradespan, school_name,summativescore FROM NJ_school_rating\", sqlite_connection)\n",
    "school_df.head()"
   ]
  },
  {
   "cell_type": "code",
   "execution_count": null,
   "metadata": {
    "scrolled": false
   },
   "outputs": [],
   "source": [
    "crime_df = pd.read_sql_query(\"SELECT county_name, murder,rape, robbery, assault, burglary, larceny, auto_theft, total FROM NJ_crime WHERE report_type = 'Number of Offenses'\", sqlite_connection)\n",
    "crime_df.head()"
   ]
  },
  {
   "cell_type": "code",
   "execution_count": null,
   "metadata": {
    "scrolled": true
   },
   "outputs": [],
   "source": [
    "query = '''SELECT POV.county_name, POV.median_hh_income, POV.poverty_rate,\n",
    "           CRM.murder, CRM.rape, CRM.robbery, CRM.assault, CRM.burglary, CRM.larceny, CRM.auto_theft, CRM.total,\n",
    "           POP.population, SCH.school_rank\n",
    "           FROM NJ_poverty AS POV \n",
    "           INNER JOIN NJ_crime AS CRM  ON POV.county_name = CRM.county_name AND report_type = 'Number of Offenses'\n",
    "           INNER JOIN (SELECT county_name, SUM(population) AS population FROM NJ_population GROUP BY county_name) AS POP ON POV.county_name = POP.county_name\n",
    "           INNER JOIN (SELECT county_name, AVG(summativescore) AS school_rank FROM NJ_school_rating GROUP BY county_name) AS SCH ON POV.county_name = SCH.county_name'''\n",
    "test = pd.read_sql_query(query, sqlite_connection)\n",
    "test"
   ]
  },
  {
   "cell_type": "code",
   "execution_count": null,
   "metadata": {
    "scrolled": true
   },
   "outputs": [],
   "source": [
    "query = '''SELECT POV.county_name, POV.median_hh_income, POV.poverty_rate, POV.county_fips,\n",
    "               CRM.total AS total_offense, CRM2.total AS rate_per_100k, CRM3.total AS total_arrest,\n",
    "               POP.population, SCH.school_rank\n",
    "               FROM NJ_poverty AS POV \n",
    "               INNER JOIN NJ_crime AS CRM ON POV.county_name = CRM.county_name AND CRM.report_type = 'Number of Offenses'\n",
    "               INNER JOIN NJ_crime AS CRM2 ON POV.county_name = CRM2.county_name AND CRM2.report_type = 'Rate Per 100,000'\n",
    "               INNER JOIN NJ_crime AS CRM3 ON POV.county_name = CRM3.county_name AND CRM3.report_type = 'Number of Arrests'\n",
    "               INNER JOIN (SELECT county_name, SUM(population) AS population FROM NJ_population GROUP BY county_name) AS POP ON POV.county_name = POP.county_name\n",
    "               INNER JOIN (SELECT county_name, AVG(summativescore) AS school_rank FROM NJ_school_rating GROUP BY county_name) AS SCH ON POV.county_name = SCH.county_name'''\n",
    "test = pd.read_sql_query(query, sqlite_connection)\n",
    "test"
   ]
  },
  {
   "cell_type": "code",
   "execution_count": null,
   "metadata": {},
   "outputs": [],
   "source": [
    "query = '''SELECT * from NJ_crime_detail'''\n",
    "test = pd.read_sql_query(query, sqlite_connection)\n",
    "test"
   ]
  },
  {
   "cell_type": "code",
   "execution_count": null,
   "metadata": {},
   "outputs": [],
   "source": [
    "query = '''SELECT police_dept||\"-\"||report_type AS id ,report_type AS label, county_name||\"-\"||police_dept AS parent from NJ_crime_detail'''\n",
    "test = pd.read_sql_query(query, sqlite_connection)\n",
    "test"
   ]
  },
  {
   "cell_type": "code",
   "execution_count": null,
   "metadata": {
    "scrolled": true
   },
   "outputs": [],
   "source": [
    "query = '''SELECT county_name, 'murder' AS crime_type, murder AS count FROM NJ_crime WHERE report_type = 'Number of Offenses'\n",
    "        UNION ALL SELECT county_name, 'rape' AS crime_type, rape AS count FROM NJ_crime WHERE report_type = 'Number of Offenses'\n",
    "        UNION ALL SELECT county_name, 'robbery' AS crime_type, robbery AS count FROM NJ_crime WHERE report_type = 'Number of Offenses'\n",
    "        UNION ALL SELECT county_name, 'assault' AS crime_type, assault AS count FROM NJ_crime WHERE report_type = 'Number of Offenses'\n",
    "        UNION ALL SELECT county_name, 'burglary' AS crime_type, burglary AS count FROM NJ_crime WHERE report_type = 'Number of Offenses'\n",
    "        UNION ALL SELECT county_name, 'larceny' AS crime_type, larceny AS count FROM NJ_crime WHERE report_type = 'Number of Offenses'\n",
    "        UNION ALL SELECT county_name, 'auto_theft' AS crime_type, auto_theft AS count FROM NJ_crime WHERE report_type = 'Number of Offenses'\n",
    "        '''\n",
    "test = pd.read_sql_query(query, sqlite_connection)\n",
    "test"
   ]
  },
  {
   "cell_type": "code",
   "execution_count": null,
   "metadata": {},
   "outputs": [],
   "source": [
    "query1 = '''SELECT DISTINCT \"NJ-\"||county_name AS id , county_name AS label,  '' AS parent, AVG(summativescore) AS value FROM \n",
    "        NJ_school_rating GROUP BY 1,2,3'''\n",
    "df1 = pd.read_sql(query1, sqlite_connection)\n",
    "df1.head()"
   ]
  },
  {
   "cell_type": "code",
   "execution_count": null,
   "metadata": {},
   "outputs": [],
   "source": [
    "query2 = '''SELECT DISTINCT county_name||\"-\"||district_name AS id ,district_name AS label,  \"NJ-\"||county_name AS parent, AVG(summativescore) AS value FROM \n",
    "        NJ_school_rating GROUP BY 1,2,3'''\n",
    "df2 = pd.read_sql(query2, sqlite_connection)\n",
    "df2.head()"
   ]
  },
  {
   "cell_type": "code",
   "execution_count": null,
   "metadata": {},
   "outputs": [],
   "source": [
    "query4 = '''SELECT gradespan, AVG(summativescore) AS value FROM NJ_school_rating GROUP BY 1'''\n",
    "df4 = pd.read_sql(query4, sqlite_connection)\n",
    "df4"
   ]
  },
  {
   "cell_type": "code",
   "execution_count": null,
   "metadata": {},
   "outputs": [],
   "source": [
    "query3 = '''SELECT DISTINCT district_name||\"-\"||school_name AS id ,school_name AS label,  county_name||\"-\"||district_name AS parent, AVG(summativescore) AS value FROM \n",
    "    NJ_school_rating GROUP BY 1,2,3'''\n",
    "df3 = pd.read_sql(query3, sqlite_connection)\n",
    "df3.head()"
   ]
  },
  {
   "cell_type": "code",
   "execution_count": null,
   "metadata": {
    "scrolled": true
   },
   "outputs": [],
   "source": [
    "query = '''SELECT county_name,district_name,gradespan,school_name,summativescore\n",
    "            FROM \n",
    "              ( SELECT county_name,district_name,gradespan,school_name, summativescore,\n",
    "                       ROW_NUMBER() OVER (PARTITION BY county_name\n",
    "                                          ORDER BY summativescore DESC) AS rn\n",
    "                FROM NJ_school_rating) AS tmp \n",
    "            WHERE rn <= 3\n",
    "            ORDER BY county_name ; '''\n",
    "test = pd.read_sql_query(query, sqlite_connection)\n",
    "test"
   ]
  },
  {
   "cell_type": "code",
   "execution_count": null,
   "metadata": {
    "scrolled": true
   },
   "outputs": [],
   "source": [
    "query = '''SELECT county_name,district_name,gradespan,school_name,summativescore FROM NJ_school_rating ORDER BY county_name,district_name,gradespan,school_name;'''\n",
    "test = pd.read_sql_query(query, sqlite_connection)\n",
    "test"
   ]
  },
  {
   "cell_type": "code",
   "execution_count": null,
   "metadata": {
    "scrolled": true
   },
   "outputs": [],
   "source": [
    "test = test.to_dict(orient='records')\n",
    "pprint(test)"
   ]
  },
  {
   "cell_type": "code",
   "execution_count": null,
   "metadata": {},
   "outputs": [],
   "source": [
    "with open(\"data/school2.json\", \"w\",encoding ='utf8') as outfile:  \n",
    "    json.dump(test, outfile, indent = 1) "
   ]
  },
  {
   "cell_type": "code",
   "execution_count": null,
   "metadata": {
    "scrolled": true
   },
   "outputs": [],
   "source": [
    "test.dtypes"
   ]
  },
  {
   "cell_type": "code",
   "execution_count": null,
   "metadata": {},
   "outputs": [],
   "source": [
    "flare = {}\n",
    "flare[\"name\"] = \"flare\"\n",
    "flare[\"description\"] = \"flare\"\n",
    "flare"
   ]
  },
  {
   "cell_type": "code",
   "execution_count": null,
   "metadata": {},
   "outputs": [],
   "source": [
    "counties = list(test['county_name'].unique())\n",
    "# counties"
   ]
  },
  {
   "cell_type": "code",
   "execution_count": null,
   "metadata": {},
   "outputs": [],
   "source": [
    "children = []\n",
    "for i in range(len(counties)):\n",
    "    child1 = {}\n",
    "    child1[\"name\"] = counties[i]\n",
    "    child1[\"description\"] = test['summativescore'].loc[test['county_name']==counties[i]].mean().round(2).astype(str)\n",
    "    district = list(test['district_name'].loc[test['county_name']==counties[i]].unique())\n",
    "    child2_list = []\n",
    "    for k in range(len(district)):\n",
    "        child2 = {}\n",
    "        child2[\"name\"] = district[k]\n",
    "        child2[\"description\"] = test['summativescore'].loc[(test['county_name']==counties[i]) & (test['district_name'] == district[k])].mean().round(2).astype(str)\n",
    "        child3_list = []\n",
    "        gradespan = list(test['gradespan'].loc[(test['county_name']==counties[i]) & (test['district_name'] == district[k])].unique())\n",
    "        for j in range(len(gradespan)):\n",
    "            child3 = {}\n",
    "            child3[\"name\"] = gradespan[j]\n",
    "            child3[\"description\"] = test[\"summativescore\"].loc[(test['county_name']==counties[i]) & (test['district_name'] == district[k]) & (test['gradespan'] == gradespan[j])].mean().round(2).astype(str)\n",
    "            child4_list = []\n",
    "            for index,row in test.loc[(test['county_name']==counties[i]) & (test['district_name'] == district[k]) & (test['gradespan'] == gradespan[j])].iterrows():\n",
    "                child4 = {}\n",
    "                child4[\"name\"] = row[\"school_name\"]\n",
    "                child4[\"description\"] = row[\"school_name\"]\n",
    "                child4[\"size\"] = round(row[\"summativescore\"])\n",
    "                child4_list.append(child4)\n",
    "            child3[\"children\"] = child4_list\n",
    "            child3_list.append(child3)\n",
    "        child2[\"children\"] = child3_list\n",
    "        child2_list.append(child2)\n",
    "    child1[\"children\"] = child2_list\n",
    "    children.append(child1)\n",
    "children"
   ]
  },
  {
   "cell_type": "code",
   "execution_count": null,
   "metadata": {},
   "outputs": [],
   "source": [
    "flare[\"children\"] = children\n",
    "flare"
   ]
  },
  {
   "cell_type": "code",
   "execution_count": null,
   "metadata": {},
   "outputs": [],
   "source": [
    "with open(\"data/school.json\", \"w\",encoding ='utf8') as outfile:  \n",
    "    json.dump(flare, outfile, indent = 1) "
   ]
  },
  {
   "cell_type": "code",
   "execution_count": null,
   "metadata": {},
   "outputs": [],
   "source": [
    "sqlite_connection.close()"
   ]
  },
  {
   "cell_type": "markdown",
   "metadata": {},
   "source": [
    "# JSON creation"
   ]
  },
  {
   "cell_type": "code",
   "execution_count": null,
   "metadata": {
    "scrolled": true
   },
   "outputs": [],
   "source": [
    "crime_dict = crime_df.to_dict(orient='records')\n",
    "pprint(crime_dict)"
   ]
  },
  {
   "cell_type": "code",
   "execution_count": null,
   "metadata": {
    "scrolled": true
   },
   "outputs": [],
   "source": [
    "metadata_dict = metadata_df.to_dict(orient='records')\n",
    "pprint(metadata_dict)"
   ]
  },
  {
   "cell_type": "code",
   "execution_count": null,
   "metadata": {},
   "outputs": [],
   "source": [
    "import json"
   ]
  },
  {
   "cell_type": "code",
   "execution_count": null,
   "metadata": {
    "scrolled": true
   },
   "outputs": [],
   "source": [
    "school_dict = school_df.to_dict(orient='records')\n",
    "pprint(school_dict)"
   ]
  },
  {
   "cell_type": "code",
   "execution_count": null,
   "metadata": {},
   "outputs": [],
   "source": []
  },
  {
   "cell_type": "code",
   "execution_count": null,
   "metadata": {},
   "outputs": [],
   "source": [
    "data_json= {}\n",
    "data_json[\"metadata\"] = metadata_dict\n",
    "data_json[\"school\"] = school_dict\n",
    "data_json[\"crime\"] = crime_dict"
   ]
  },
  {
   "cell_type": "markdown",
   "metadata": {},
   "source": [
    "# Linear regression"
   ]
  },
  {
   "cell_type": "code",
   "execution_count": null,
   "metadata": {},
   "outputs": [],
   "source": [
    "import matplotlib.pyplot as plt\n",
    "import seaborn as sn\n",
    "import scipy.stats as st\n",
    "from scipy.stats import linregress\n",
    "from scipy.stats import sem"
   ]
  },
  {
   "cell_type": "code",
   "execution_count": null,
   "metadata": {
    "scrolled": true
   },
   "outputs": [],
   "source": [
    "test.columns"
   ]
  },
  {
   "cell_type": "code",
   "execution_count": null,
   "metadata": {},
   "outputs": [],
   "source": [
    "test.dtypes"
   ]
  },
  {
   "cell_type": "code",
   "execution_count": null,
   "metadata": {
    "scrolled": true
   },
   "outputs": [],
   "source": [
    "# Calculate the correlation coefficient and linear regression model \n",
    "x = test['median_hh_income'].astype(float)\n",
    "# x = test['school_rank']\n",
    "y = test['total_offense']\n",
    "\n",
    "correlation = st.pearsonr(x,y)\n",
    "\n",
    "# Print the answer to above calculation\n",
    "print(f\"\"\"The correlation between school_rank and total_offense is {round(correlation[0],2)}.\"\"\")\n",
    "\n",
    "# Calculate linear regression\n",
    "(slope, intercept, rvalue, pvalue, stderr) = linregress(x, y)\n",
    "regress_values = x * slope + intercept\n",
    "line_eq = \"y = \" + str(round(slope,2)) + \"x + \" + str(round(intercept,2))\n",
    "\n",
    "# Plot linear regression on top of scatter plot\n",
    "plt.scatter(x,y)\n",
    "plt.plot(x,regress_values,\"r-\")\n",
    "\n",
    "# Annotate linear regression\n",
    "plt.annotate(line_eq,(20,36),fontsize=16,color=\"red\")\n",
    "\n",
    "# Add labels and title to plot\n",
    "plt.xlabel(\"median_hh_income\")\n",
    "plt.ylabel(\"total_offense\")\n",
    "plt.title('total_offense by median_hh_income')\n",
    "# plt.savefig(\"Images/scatter_line_plot.png\")\n",
    "plt.show()"
   ]
  }
 ],
 "metadata": {
  "kernelspec": {
   "display_name": "Python (PythonData)",
   "language": "python",
   "name": "myenv"
  },
  "language_info": {
   "codemirror_mode": {
    "name": "ipython",
    "version": 3
   },
   "file_extension": ".py",
   "mimetype": "text/x-python",
   "name": "python",
   "nbconvert_exporter": "python",
   "pygments_lexer": "ipython3",
   "version": "3.8.5"
  }
 },
 "nbformat": 4,
 "nbformat_minor": 4
}
